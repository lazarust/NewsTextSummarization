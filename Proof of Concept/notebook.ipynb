{
  "nbformat": 4,
  "nbformat_minor": 0,
  "metadata": {
    "kernelspec": {
      "display_name": "Python 3",
      "language": "python",
      "name": "python3"
    },
    "language_info": {
      "codemirror_mode": {
        "name": "ipython",
        "version": 3
      },
      "file_extension": ".py",
      "mimetype": "text/x-python",
      "name": "python",
      "nbconvert_exporter": "python",
      "pygments_lexer": "ipython3",
      "version": "3.7.6"
    },
    "papermill": {
      "duration": 1109.129638,
      "end_time": "2020-09-10T03:05:20.295565",
      "environment_variables": {},
      "exception": null,
      "input_path": "__notebook__.ipynb",
      "output_path": "__notebook__.ipynb",
      "parameters": {},
      "start_time": "2020-09-10T02:46:51.165927",
      "version": "2.1.0"
    },
    "colab": {
      "name": "notebook.ipynb",
      "provenance": []
    }
  },
  "cells": [
    {
      "cell_type": "markdown",
      "metadata": {
        "papermill": {
          "duration": 0.009073,
          "end_time": "2020-09-10T02:46:54.755113",
          "exception": false,
          "start_time": "2020-09-10T02:46:54.746040",
          "status": "completed"
        },
        "tags": [],
        "id": "NWdEM36nN7mf",
        "colab_type": "text"
      },
      "source": [
        "# Summarization Comparison"
      ]
    },
    {
      "cell_type": "markdown",
      "metadata": {
        "id": "JQXjbR7Qg6EI",
        "colab_type": "text"
      },
      "source": [
        "### Imports"
      ]
    },
    {
      "cell_type": "code",
      "metadata": {
        "execution": {
          "iopub.execute_input": "2020-09-10T02:46:54.776688Z",
          "iopub.status.busy": "2020-09-10T02:46:54.775871Z",
          "iopub.status.idle": "2020-09-10T02:47:07.233689Z",
          "shell.execute_reply": "2020-09-10T02:47:07.232772Z"
        },
        "papermill": {
          "duration": 12.469558,
          "end_time": "2020-09-10T02:47:07.233805",
          "exception": false,
          "start_time": "2020-09-10T02:46:54.764247",
          "status": "completed"
        },
        "tags": [],
        "id": "pxSTtg9XN7mg",
        "colab_type": "code",
        "colab": {
          "base_uri": "https://localhost:8080/",
          "height": 0
        },
        "outputId": "d1a1e2cb-111a-4c61-8964-f9073f2b3344"
      },
      "source": [
        "!pip install -U transformers kaggle"
      ],
      "execution_count": 1,
      "outputs": [
        {
          "output_type": "stream",
          "text": [
            "Requirement already up-to-date: transformers in /usr/local/lib/python3.6/dist-packages (3.2.0)\n",
            "Requirement already up-to-date: kaggle in /usr/local/lib/python3.6/dist-packages (1.5.8)\n",
            "Requirement already satisfied, skipping upgrade: tqdm>=4.27 in /usr/local/lib/python3.6/dist-packages (from transformers) (4.41.1)\n",
            "Requirement already satisfied, skipping upgrade: requests in /usr/local/lib/python3.6/dist-packages (from transformers) (2.23.0)\n",
            "Requirement already satisfied, skipping upgrade: dataclasses; python_version < \"3.7\" in /usr/local/lib/python3.6/dist-packages (from transformers) (0.7)\n",
            "Requirement already satisfied, skipping upgrade: sentencepiece!=0.1.92 in /usr/local/lib/python3.6/dist-packages (from transformers) (0.1.91)\n",
            "Requirement already satisfied, skipping upgrade: tokenizers==0.8.1.rc2 in /usr/local/lib/python3.6/dist-packages (from transformers) (0.8.1rc2)\n",
            "Requirement already satisfied, skipping upgrade: numpy in /usr/local/lib/python3.6/dist-packages (from transformers) (1.18.5)\n",
            "Requirement already satisfied, skipping upgrade: filelock in /usr/local/lib/python3.6/dist-packages (from transformers) (3.0.12)\n",
            "Requirement already satisfied, skipping upgrade: sacremoses in /usr/local/lib/python3.6/dist-packages (from transformers) (0.0.43)\n",
            "Requirement already satisfied, skipping upgrade: regex!=2019.12.17 in /usr/local/lib/python3.6/dist-packages (from transformers) (2019.12.20)\n",
            "Requirement already satisfied, skipping upgrade: packaging in /usr/local/lib/python3.6/dist-packages (from transformers) (20.4)\n",
            "Requirement already satisfied, skipping upgrade: certifi in /usr/local/lib/python3.6/dist-packages (from kaggle) (2020.6.20)\n",
            "Requirement already satisfied, skipping upgrade: python-slugify in /usr/local/lib/python3.6/dist-packages (from kaggle) (4.0.1)\n",
            "Requirement already satisfied, skipping upgrade: slugify in /usr/local/lib/python3.6/dist-packages (from kaggle) (0.0.1)\n",
            "Requirement already satisfied, skipping upgrade: python-dateutil in /usr/local/lib/python3.6/dist-packages (from kaggle) (2.8.1)\n",
            "Requirement already satisfied, skipping upgrade: six>=1.10 in /usr/local/lib/python3.6/dist-packages (from kaggle) (1.15.0)\n",
            "Requirement already satisfied, skipping upgrade: urllib3<1.25,>=1.21.1 in /usr/local/lib/python3.6/dist-packages (from kaggle) (1.24.3)\n",
            "Requirement already satisfied, skipping upgrade: chardet<4,>=3.0.2 in /usr/local/lib/python3.6/dist-packages (from requests->transformers) (3.0.4)\n",
            "Requirement already satisfied, skipping upgrade: idna<3,>=2.5 in /usr/local/lib/python3.6/dist-packages (from requests->transformers) (2.10)\n",
            "Requirement already satisfied, skipping upgrade: click in /usr/local/lib/python3.6/dist-packages (from sacremoses->transformers) (7.1.2)\n",
            "Requirement already satisfied, skipping upgrade: joblib in /usr/local/lib/python3.6/dist-packages (from sacremoses->transformers) (0.16.0)\n",
            "Requirement already satisfied, skipping upgrade: pyparsing>=2.0.2 in /usr/local/lib/python3.6/dist-packages (from packaging->transformers) (2.4.7)\n",
            "Requirement already satisfied, skipping upgrade: text-unidecode>=1.3 in /usr/local/lib/python3.6/dist-packages (from python-slugify->kaggle) (1.3)\n"
          ],
          "name": "stdout"
        }
      ]
    },
    {
      "cell_type": "code",
      "metadata": {
        "execution": {
          "iopub.execute_input": "2020-09-10T02:47:07.263392Z",
          "iopub.status.busy": "2020-09-10T02:47:07.259692Z",
          "iopub.status.idle": "2020-09-10T02:47:16.010150Z",
          "shell.execute_reply": "2020-09-10T02:47:16.009081Z"
        },
        "papermill": {
          "duration": 8.765494,
          "end_time": "2020-09-10T02:47:16.010279",
          "exception": false,
          "start_time": "2020-09-10T02:47:07.244785",
          "status": "completed"
        },
        "tags": [],
        "id": "ixalBllbN7mj",
        "colab_type": "code",
        "colab": {}
      },
      "source": [
        "import numpy as np\n",
        "\n",
        "from transformers import AutoModelForSeq2SeqLM, AutoTokenizer, AutoModelWithLMHead\n",
        "import torch\n",
        "import pandas as pd\n",
        "import time\n",
        "import gc"
      ],
      "execution_count": 2,
      "outputs": []
    },
    {
      "cell_type": "code",
      "metadata": {
        "execution": {
          "iopub.execute_input": "2020-09-10T02:47:16.072652Z",
          "iopub.status.busy": "2020-09-10T02:47:16.071087Z",
          "iopub.status.idle": "2020-09-10T02:47:16.073346Z",
          "shell.execute_reply": "2020-09-10T02:47:16.073742Z"
        },
        "papermill": {
          "duration": 0.016173,
          "end_time": "2020-09-10T02:47:16.073857",
          "exception": false,
          "start_time": "2020-09-10T02:47:16.057684",
          "status": "completed"
        },
        "tags": [],
        "id": "Qhv4i2PwN7mo",
        "colab_type": "code",
        "colab": {}
      },
      "source": [
        "#from transformers import pipeline; print(pipeline('sentiment-analysis')('I hate you'))"
      ],
      "execution_count": 3,
      "outputs": []
    },
    {
      "cell_type": "markdown",
      "metadata": {
        "papermill": {
          "duration": 0.010074,
          "end_time": "2020-09-10T02:47:16.094167",
          "exception": false,
          "start_time": "2020-09-10T02:47:16.084093",
          "status": "completed"
        },
        "tags": [],
        "id": "7Oq9oeGBN7mq",
        "colab_type": "text"
      },
      "source": [
        "### Read in Data\n",
        "Reads in the 3 csv files, drops unneeded columns, then concatenates them together. "
      ]
    },
    {
      "cell_type": "code",
      "metadata": {
        "id": "xiPqqkAfPW-O",
        "colab_type": "code",
        "colab": {}
      },
      "source": [
        "# from google.colab import files\n",
        "\n",
        "# Uncomment this line to upload data file\n",
        "# uploaded = files.upload()"
      ],
      "execution_count": 4,
      "outputs": []
    },
    {
      "cell_type": "code",
      "metadata": {
        "_cell_guid": "79c7e3d0-c299-4dcb-8224-4455121ee9b0",
        "_uuid": "d629ff2d2480ee46fbb7e2d37f6b5fab8052498a",
        "execution": {
          "iopub.execute_input": "2020-09-10T02:47:16.127257Z",
          "iopub.status.busy": "2020-09-10T02:47:16.126720Z",
          "iopub.status.idle": "2020-09-10T02:47:22.493418Z",
          "shell.execute_reply": "2020-09-10T02:47:22.492326Z"
        },
        "papermill": {
          "duration": 6.388999,
          "end_time": "2020-09-10T02:47:22.493537",
          "exception": false,
          "start_time": "2020-09-10T02:47:16.104538",
          "status": "completed"
        },
        "tags": [],
        "id": "ODQ_mmWXN7mr",
        "colab_type": "code",
        "colab": {}
      },
      "source": [
        "df = pd.read_csv('data.csv')"
      ],
      "execution_count": 5,
      "outputs": []
    },
    {
      "cell_type": "code",
      "metadata": {
        "execution": {
          "iopub.execute_input": "2020-09-10T02:47:22.524757Z",
          "iopub.status.busy": "2020-09-10T02:47:22.524227Z",
          "iopub.status.idle": "2020-09-10T02:47:22.534568Z",
          "shell.execute_reply": "2020-09-10T02:47:22.533674Z"
        },
        "papermill": {
          "duration": 0.030281,
          "end_time": "2020-09-10T02:47:22.534660",
          "exception": false,
          "start_time": "2020-09-10T02:47:22.504379",
          "status": "completed"
        },
        "tags": [],
        "id": "c1NgwA5sN7mt",
        "colab_type": "code",
        "colab": {
          "base_uri": "https://localhost:8080/",
          "height": 0
        },
        "outputId": "2a2e1b5d-2b4d-4df2-af51-3b66ebc0e8a8"
      },
      "source": [
        "df.head()"
      ],
      "execution_count": 6,
      "outputs": [
        {
          "output_type": "execute_result",
          "data": {
            "text/html": [
              "<div>\n",
              "<style scoped>\n",
              "    .dataframe tbody tr th:only-of-type {\n",
              "        vertical-align: middle;\n",
              "    }\n",
              "\n",
              "    .dataframe tbody tr th {\n",
              "        vertical-align: top;\n",
              "    }\n",
              "\n",
              "    .dataframe thead th {\n",
              "        text-align: right;\n",
              "    }\n",
              "</style>\n",
              "<table border=\"1\" class=\"dataframe\">\n",
              "  <thead>\n",
              "    <tr style=\"text-align: right;\">\n",
              "      <th></th>\n",
              "      <th>Unnamed: 0</th>\n",
              "      <th>id</th>\n",
              "      <th>title</th>\n",
              "      <th>publication</th>\n",
              "      <th>author</th>\n",
              "      <th>date</th>\n",
              "      <th>year</th>\n",
              "      <th>month</th>\n",
              "      <th>url</th>\n",
              "      <th>content</th>\n",
              "    </tr>\n",
              "  </thead>\n",
              "  <tbody>\n",
              "    <tr>\n",
              "      <th>0</th>\n",
              "      <td>0</td>\n",
              "      <td>17283</td>\n",
              "      <td>House Republicans Fret About Winning Their Hea...</td>\n",
              "      <td>New York Times</td>\n",
              "      <td>Carl Hulse</td>\n",
              "      <td>2016-12-31</td>\n",
              "      <td>2016.0</td>\n",
              "      <td>12.0</td>\n",
              "      <td>NaN</td>\n",
              "      <td>WASHINGTON  —   Congressional Republicans have...</td>\n",
              "    </tr>\n",
              "  </tbody>\n",
              "</table>\n",
              "</div>"
            ],
            "text/plain": [
              "   Unnamed: 0     id  ... url                                            content\n",
              "0           0  17283  ... NaN  WASHINGTON  —   Congressional Republicans have...\n",
              "\n",
              "[1 rows x 10 columns]"
            ]
          },
          "metadata": {
            "tags": []
          },
          "execution_count": 6
        }
      ]
    },
    {
      "cell_type": "code",
      "metadata": {
        "execution": {
          "iopub.execute_input": "2020-09-10T02:47:22.565653Z",
          "iopub.status.busy": "2020-09-10T02:47:22.565145Z",
          "iopub.status.idle": "2020-09-10T02:47:22.571131Z",
          "shell.execute_reply": "2020-09-10T02:47:22.570647Z"
        },
        "papermill": {
          "duration": 0.025784,
          "end_time": "2020-09-10T02:47:22.571221",
          "exception": false,
          "start_time": "2020-09-10T02:47:22.545437",
          "status": "completed"
        },
        "tags": [],
        "id": "Wjb7QOc6N7mv",
        "colab_type": "code",
        "colab": {
          "base_uri": "https://localhost:8080/",
          "height": 0
        },
        "outputId": "01b3a0c4-281c-4688-c43a-56d32ec6adbd"
      },
      "source": [
        "df.describe"
      ],
      "execution_count": 7,
      "outputs": [
        {
          "output_type": "execute_result",
          "data": {
            "text/plain": [
              "<bound method NDFrame.describe of    Unnamed: 0     id  ... url                                            content\n",
              "0           0  17283  ... NaN  WASHINGTON  —   Congressional Republicans have...\n",
              "\n",
              "[1 rows x 10 columns]>"
            ]
          },
          "metadata": {
            "tags": []
          },
          "execution_count": 7
        }
      ]
    },
    {
      "cell_type": "markdown",
      "metadata": {
        "papermill": {
          "duration": 0.011159,
          "end_time": "2020-09-10T02:47:22.593814",
          "exception": false,
          "start_time": "2020-09-10T02:47:22.582655",
          "status": "completed"
        },
        "tags": [],
        "id": "gG4vwTrkN7my",
        "colab_type": "text"
      },
      "source": [
        "## Summarizing Using Different Models\n",
        "\n",
        "Used different models through huggingface's transformers"
      ]
    },
    {
      "cell_type": "markdown",
      "metadata": {
        "papermill": {
          "duration": 0.011059,
          "end_time": "2020-09-10T02:47:22.616049",
          "exception": false,
          "start_time": "2020-09-10T02:47:22.604990",
          "status": "completed"
        },
        "tags": [],
        "id": "rLl8W8mTN7my",
        "colab_type": "text"
      },
      "source": [
        "### T5"
      ]
    },
    {
      "cell_type": "code",
      "metadata": {
        "execution": {
          "iopub.execute_input": "2020-09-10T02:47:22.642319Z",
          "iopub.status.busy": "2020-09-10T02:47:22.641518Z",
          "iopub.status.idle": "2020-09-10T02:49:03.301239Z",
          "shell.execute_reply": "2020-09-10T02:49:03.300759Z"
        },
        "papermill": {
          "duration": 100.674602,
          "end_time": "2020-09-10T02:49:03.301342",
          "exception": false,
          "start_time": "2020-09-10T02:47:22.626740",
          "status": "completed"
        },
        "tags": [],
        "id": "clGVPkfgN7mz",
        "colab_type": "code",
        "colab": {}
      },
      "source": [
        "model = AutoModelForSeq2SeqLM.from_pretrained('t5-base')\n",
        "tokenizer = AutoTokenizer.from_pretrained(\"t5-base\")"
      ],
      "execution_count": 8,
      "outputs": []
    },
    {
      "cell_type": "code",
      "metadata": {
        "execution": {
          "iopub.execute_input": "2020-09-10T02:49:03.332450Z",
          "iopub.status.busy": "2020-09-10T02:49:03.331858Z",
          "iopub.status.idle": "2020-09-10T02:49:18.264699Z",
          "shell.execute_reply": "2020-09-10T02:49:18.264252Z"
        },
        "papermill": {
          "duration": 14.951632,
          "end_time": "2020-09-10T02:49:18.264804",
          "exception": false,
          "start_time": "2020-09-10T02:49:03.313172",
          "status": "completed"
        },
        "tags": [],
        "id": "cjIdLykLN7m1",
        "colab_type": "code",
        "colab": {
          "base_uri": "https://localhost:8080/",
          "height": 0
        },
        "outputId": "7f2b98e4-b417-4539-beb9-065aa42f145f"
      },
      "source": [
        "start = time.time()\n",
        "inputs = tokenizer.encode(\"summarize: \" + df.iloc[0]['content'], return_tensors=\"pt\", max_length=512, truncation=True)\n",
        "outputs = model.generate(inputs, max_length=150, min_length=40, length_penalty=2.0, num_beams=4, early_stopping=True)\n",
        "decoded_T5 = tokenizer.decode(outputs[0])\n",
        "end = time.time()\n",
        "t5_time = (end - start)\n",
        "print(t5_time)"
      ],
      "execution_count": 9,
      "outputs": [
        {
          "output_type": "stream",
          "text": [
            "19.722370386123657\n"
          ],
          "name": "stdout"
        }
      ]
    },
    {
      "cell_type": "code",
      "metadata": {
        "id": "WGNajvKfcWEz",
        "colab_type": "code",
        "colab": {
          "base_uri": "https://localhost:8080/",
          "height": 0
        },
        "outputId": "5fc14209-63a3-4440-b14e-5ffb06f70ca2"
      },
      "source": [
        "del tokenizer\n",
        "del model\n",
        "gc.collect()"
      ],
      "execution_count": 10,
      "outputs": [
        {
          "output_type": "execute_result",
          "data": {
            "text/plain": [
              "42"
            ]
          },
          "metadata": {
            "tags": []
          },
          "execution_count": 10
        }
      ]
    },
    {
      "cell_type": "markdown",
      "metadata": {
        "papermill": {
          "duration": 0.011645,
          "end_time": "2020-09-10T02:49:18.288314",
          "exception": false,
          "start_time": "2020-09-10T02:49:18.276669",
          "status": "completed"
        },
        "tags": [],
        "id": "AWFbB_eDN7m2",
        "colab_type": "text"
      },
      "source": [
        "### BERT"
      ]
    },
    {
      "cell_type": "code",
      "metadata": {
        "execution": {
          "iopub.execute_input": "2020-09-10T02:49:18.316865Z",
          "iopub.status.busy": "2020-09-10T02:49:18.316054Z",
          "iopub.status.idle": "2020-09-10T02:50:12.286095Z",
          "shell.execute_reply": "2020-09-10T02:50:12.285417Z"
        },
        "papermill": {
          "duration": 53.986516,
          "end_time": "2020-09-10T02:50:12.286241",
          "exception": false,
          "start_time": "2020-09-10T02:49:18.299725",
          "status": "completed"
        },
        "tags": [],
        "id": "ovMQQpQ6N7m3",
        "colab_type": "code",
        "colab": {
          "base_uri": "https://localhost:8080/",
          "height": 0
        },
        "outputId": "408a020d-3e3d-4e78-ab25-3a88767446af"
      },
      "source": [
        "model = AutoModelWithLMHead.from_pretrained('bert-base-cased')\n",
        "tokenizer = AutoTokenizer.from_pretrained(\"bert-base-cased\")"
      ],
      "execution_count": 11,
      "outputs": [
        {
          "output_type": "stream",
          "text": [
            "/usr/local/lib/python3.6/dist-packages/transformers/modeling_auto.py:779: FutureWarning: The class `AutoModelWithLMHead` is deprecated and will be removed in a future version. Please use `AutoModelForCausalLM` for causal language models, `AutoModelForMaskedLM` for masked language models and `AutoModelForSeq2SeqLM` for encoder-decoder models.\n",
            "  FutureWarning,\n",
            "Some weights of the model checkpoint at bert-base-cased were not used when initializing BertForMaskedLM: ['cls.seq_relationship.weight', 'cls.seq_relationship.bias']\n",
            "- This IS expected if you are initializing BertForMaskedLM from the checkpoint of a model trained on another task or with another architecture (e.g. initializing a BertForSequenceClassification model from a BertForPretraining model).\n",
            "- This IS NOT expected if you are initializing BertForMaskedLM from the checkpoint of a model that you expect to be exactly identical (initializing a BertForSequenceClassification model from a BertForSequenceClassification model).\n",
            "Some weights of BertForMaskedLM were not initialized from the model checkpoint at bert-base-cased and are newly initialized: ['cls.predictions.decoder.bias']\n",
            "You should probably TRAIN this model on a down-stream task to be able to use it for predictions and inference.\n"
          ],
          "name": "stderr"
        }
      ]
    },
    {
      "cell_type": "code",
      "metadata": {
        "execution": {
          "iopub.execute_input": "2020-09-10T02:50:12.318874Z",
          "iopub.status.busy": "2020-09-10T02:50:12.318090Z",
          "iopub.status.idle": "2020-09-10T02:51:00.294901Z",
          "shell.execute_reply": "2020-09-10T02:51:00.294091Z"
        },
        "papermill": {
          "duration": 47.995902,
          "end_time": "2020-09-10T02:51:00.295033",
          "exception": false,
          "start_time": "2020-09-10T02:50:12.299131",
          "status": "completed"
        },
        "tags": [],
        "id": "3W9CvHwDN7m5",
        "colab_type": "code",
        "colab": {
          "base_uri": "https://localhost:8080/",
          "height": 0
        },
        "outputId": "09beb463-522c-432b-b044-077edb92d437"
      },
      "source": [
        "start = time.time()\n",
        "inputs = tokenizer.encode(\"summarize: \" + df.iloc[0]['content'], return_tensors=\"pt\", max_length=100, truncation=True)\n",
        "outputs = model.generate(inputs, max_length=150, min_length=40, length_penalty=2.0, num_beams=4, early_stopping=True)\n",
        "decoded_BERT = tokenizer.decode(outputs[0])\n",
        "end = time.time()\n",
        "BERT_time = (end-start)\n",
        "print(BERT_time)"
      ],
      "execution_count": 12,
      "outputs": [
        {
          "output_type": "stream",
          "text": [
            "98.37644147872925\n"
          ],
          "name": "stdout"
        }
      ]
    },
    {
      "cell_type": "code",
      "metadata": {
        "id": "GZkrEyTecXcP",
        "colab_type": "code",
        "colab": {
          "base_uri": "https://localhost:8080/",
          "height": 0
        },
        "outputId": "01027682-44bb-4bd7-a756-2b100af5ac41"
      },
      "source": [
        "del tokenizer\n",
        "del model\n",
        "gc.collect()"
      ],
      "execution_count": 13,
      "outputs": [
        {
          "output_type": "execute_result",
          "data": {
            "text/plain": [
              "0"
            ]
          },
          "metadata": {
            "tags": []
          },
          "execution_count": 13
        }
      ]
    },
    {
      "cell_type": "markdown",
      "metadata": {
        "papermill": {
          "duration": 0.012121,
          "end_time": "2020-09-10T02:51:00.320510",
          "exception": false,
          "start_time": "2020-09-10T02:51:00.308389",
          "status": "completed"
        },
        "tags": [],
        "id": "TbYIW24QN7m6",
        "colab_type": "text"
      },
      "source": [
        "### GPT "
      ]
    },
    {
      "cell_type": "code",
      "metadata": {
        "execution": {
          "iopub.execute_input": "2020-09-10T02:51:00.349484Z",
          "iopub.status.busy": "2020-09-10T02:51:00.348679Z",
          "iopub.status.idle": "2020-09-10T02:52:03.071412Z",
          "shell.execute_reply": "2020-09-10T02:52:03.070956Z"
        },
        "papermill": {
          "duration": 62.738741,
          "end_time": "2020-09-10T02:52:03.071518",
          "exception": false,
          "start_time": "2020-09-10T02:51:00.332777",
          "status": "completed"
        },
        "tags": [],
        "id": "aQdVtceYN7m7",
        "colab_type": "code",
        "colab": {
          "base_uri": "https://localhost:8080/",
          "height": 0
        },
        "outputId": "0af93bfb-6955-4ef6-c4ec-5000a9a2d6b8"
      },
      "source": [
        "model = AutoModelWithLMHead.from_pretrained('openai-gpt')\n",
        "tokenizer = AutoTokenizer.from_pretrained(\"openai-gpt\")"
      ],
      "execution_count": 14,
      "outputs": [
        {
          "output_type": "stream",
          "text": [
            "/usr/local/lib/python3.6/dist-packages/transformers/modeling_auto.py:779: FutureWarning: The class `AutoModelWithLMHead` is deprecated and will be removed in a future version. Please use `AutoModelForCausalLM` for causal language models, `AutoModelForMaskedLM` for masked language models and `AutoModelForSeq2SeqLM` for encoder-decoder models.\n",
            "  FutureWarning,\n",
            "Some weights of OpenAIGPTLMHeadModel were not initialized from the model checkpoint at openai-gpt and are newly initialized: ['lm_head.weight']\n",
            "You should probably TRAIN this model on a down-stream task to be able to use it for predictions and inference.\n",
            "ftfy or spacy is not installed using BERT BasicTokenizer instead of SpaCy & ftfy.\n"
          ],
          "name": "stderr"
        }
      ]
    },
    {
      "cell_type": "code",
      "metadata": {
        "execution": {
          "iopub.execute_input": "2020-09-10T02:52:03.105675Z",
          "iopub.status.busy": "2020-09-10T02:52:03.104898Z",
          "iopub.status.idle": "2020-09-10T02:52:04.502624Z",
          "shell.execute_reply": "2020-09-10T02:52:04.502098Z"
        },
        "papermill": {
          "duration": 1.417627,
          "end_time": "2020-09-10T02:52:04.502726",
          "exception": false,
          "start_time": "2020-09-10T02:52:03.085099",
          "status": "completed"
        },
        "tags": [],
        "id": "4ngwUQbRN7m9",
        "colab_type": "code",
        "colab": {
          "base_uri": "https://localhost:8080/",
          "height": 0
        },
        "outputId": "1aee67f3-5283-49a5-9d87-b0591688817d"
      },
      "source": [
        "start = time.time()\n",
        "inputs = tokenizer.encode(\"summarize: \" + df.iloc[0]['content'], return_tensors=\"pt\", max_length=149, truncation=True)\n",
        "outputs = model.generate(inputs, max_length=150, min_length=40, length_penalty=2.0, num_beams=4, early_stopping=True)\n",
        "decoded_GPT = tokenizer.decode(outputs[0])\n",
        "end = time.time()\n",
        "GPT_time = (end - start)\n",
        "print(GPT_time)"
      ],
      "execution_count": 15,
      "outputs": [
        {
          "output_type": "stream",
          "text": [
            "2.7036736011505127\n"
          ],
          "name": "stdout"
        }
      ]
    },
    {
      "cell_type": "code",
      "metadata": {
        "id": "iIKwXa2lcYmF",
        "colab_type": "code",
        "colab": {
          "base_uri": "https://localhost:8080/",
          "height": 0
        },
        "outputId": "8c23a7b6-a89d-4232-ba3a-0929eb737186"
      },
      "source": [
        "del tokenizer\n",
        "del model\n",
        "gc.collect()"
      ],
      "execution_count": 16,
      "outputs": [
        {
          "output_type": "execute_result",
          "data": {
            "text/plain": [
              "0"
            ]
          },
          "metadata": {
            "tags": []
          },
          "execution_count": 16
        }
      ]
    },
    {
      "cell_type": "markdown",
      "metadata": {
        "papermill": {
          "duration": 0.013783,
          "end_time": "2020-09-10T02:52:04.531525",
          "exception": false,
          "start_time": "2020-09-10T02:52:04.517742",
          "status": "completed"
        },
        "tags": [],
        "id": "pty8RJ2FN7m-",
        "colab_type": "text"
      },
      "source": [
        "### DistilBERT"
      ]
    },
    {
      "cell_type": "code",
      "metadata": {
        "execution": {
          "iopub.execute_input": "2020-09-10T02:52:04.563392Z",
          "iopub.status.busy": "2020-09-10T02:52:04.562533Z",
          "iopub.status.idle": "2020-09-10T02:52:53.864646Z",
          "shell.execute_reply": "2020-09-10T02:52:53.864204Z"
        },
        "papermill": {
          "duration": 49.319493,
          "end_time": "2020-09-10T02:52:53.864748",
          "exception": false,
          "start_time": "2020-09-10T02:52:04.545255",
          "status": "completed"
        },
        "tags": [],
        "id": "00ssHbxTN7m_",
        "colab_type": "code",
        "colab": {
          "base_uri": "https://localhost:8080/",
          "height": 0
        },
        "outputId": "8eb673fa-d564-4b47-b92f-ea49555dd866"
      },
      "source": [
        "model = AutoModelWithLMHead.from_pretrained('distilgpt2')\n",
        "tokenizer = AutoTokenizer.from_pretrained(\"distilgpt2\")"
      ],
      "execution_count": 17,
      "outputs": [
        {
          "output_type": "stream",
          "text": [
            "/usr/local/lib/python3.6/dist-packages/transformers/modeling_auto.py:779: FutureWarning: The class `AutoModelWithLMHead` is deprecated and will be removed in a future version. Please use `AutoModelForCausalLM` for causal language models, `AutoModelForMaskedLM` for masked language models and `AutoModelForSeq2SeqLM` for encoder-decoder models.\n",
            "  FutureWarning,\n"
          ],
          "name": "stderr"
        }
      ]
    },
    {
      "cell_type": "code",
      "metadata": {
        "execution": {
          "iopub.execute_input": "2020-09-10T02:52:53.902178Z",
          "iopub.status.busy": "2020-09-10T02:52:53.901561Z",
          "iopub.status.idle": "2020-09-10T02:52:54.864279Z",
          "shell.execute_reply": "2020-09-10T02:52:54.865051Z"
        },
        "papermill": {
          "duration": 0.985661,
          "end_time": "2020-09-10T02:52:54.865246",
          "exception": false,
          "start_time": "2020-09-10T02:52:53.879585",
          "status": "completed"
        },
        "tags": [],
        "id": "_SqQVdSiN7nB",
        "colab_type": "code",
        "colab": {
          "base_uri": "https://localhost:8080/",
          "height": 0
        },
        "outputId": "bc122fdd-12fa-4c77-e0bc-49367f449c2a"
      },
      "source": [
        "start = time.time()\n",
        "inputs = tokenizer.encode(\"summarize: \" + df.iloc[0]['content'], return_tensors=\"pt\", max_length=149, truncation=True)\n",
        "outputs = model.generate(inputs, max_length=150, min_length=40, length_penalty=2.0, num_beams=4, early_stopping=True)\n",
        "decoded_DistilBERT = tokenizer.decode(outputs[0])\n",
        "end = time.time()\n",
        "DistilBERT_time = (end - start)\n",
        "print(DistilBERT_time)"
      ],
      "execution_count": 18,
      "outputs": [
        {
          "output_type": "stream",
          "text": [
            "Setting `pad_token_id` to 50256 (first `eos_token_id`) to generate sequence\n"
          ],
          "name": "stderr"
        },
        {
          "output_type": "stream",
          "text": [
            "1.8212921619415283\n"
          ],
          "name": "stdout"
        }
      ]
    },
    {
      "cell_type": "code",
      "metadata": {
        "id": "vtf87AilcZqM",
        "colab_type": "code",
        "colab": {
          "base_uri": "https://localhost:8080/",
          "height": 0
        },
        "outputId": "b032c3ca-b905-410d-f0f9-bd9a89df83d4"
      },
      "source": [
        "del tokenizer\n",
        "del model\n",
        "gc.collect()"
      ],
      "execution_count": 19,
      "outputs": [
        {
          "output_type": "execute_result",
          "data": {
            "text/plain": [
              "0"
            ]
          },
          "metadata": {
            "tags": []
          },
          "execution_count": 19
        }
      ]
    },
    {
      "cell_type": "markdown",
      "metadata": {
        "papermill": {
          "duration": 0.022824,
          "end_time": "2020-09-10T02:52:54.922357",
          "exception": false,
          "start_time": "2020-09-10T02:52:54.899533",
          "status": "completed"
        },
        "tags": [],
        "id": "a91iOm1xN7nD",
        "colab_type": "text"
      },
      "source": [
        "### GPT2"
      ]
    },
    {
      "cell_type": "code",
      "metadata": {
        "execution": {
          "iopub.execute_input": "2020-09-10T02:52:54.979894Z",
          "iopub.status.busy": "2020-09-10T02:52:54.977824Z",
          "iopub.status.idle": "2020-09-10T02:54:05.968388Z",
          "shell.execute_reply": "2020-09-10T02:54:05.968806Z"
        },
        "papermill": {
          "duration": 71.021254,
          "end_time": "2020-09-10T02:54:05.968985",
          "exception": false,
          "start_time": "2020-09-10T02:52:54.947731",
          "status": "completed"
        },
        "tags": [],
        "id": "47Zuk1o_N7nD",
        "colab_type": "code",
        "colab": {
          "base_uri": "https://localhost:8080/",
          "height": 0
        },
        "outputId": "24297734-dff6-4a15-cf7d-51a4fce5da80"
      },
      "source": [
        "model = AutoModelWithLMHead.from_pretrained('gpt2')\n",
        "tokenizer = AutoTokenizer.from_pretrained(\"gpt2\")"
      ],
      "execution_count": 20,
      "outputs": [
        {
          "output_type": "stream",
          "text": [
            "/usr/local/lib/python3.6/dist-packages/transformers/modeling_auto.py:779: FutureWarning: The class `AutoModelWithLMHead` is deprecated and will be removed in a future version. Please use `AutoModelForCausalLM` for causal language models, `AutoModelForMaskedLM` for masked language models and `AutoModelForSeq2SeqLM` for encoder-decoder models.\n",
            "  FutureWarning,\n"
          ],
          "name": "stderr"
        }
      ]
    },
    {
      "cell_type": "code",
      "metadata": {
        "execution": {
          "iopub.execute_input": "2020-09-10T02:54:06.007063Z",
          "iopub.status.busy": "2020-09-10T02:54:06.006264Z",
          "iopub.status.idle": "2020-09-10T02:54:07.380657Z",
          "shell.execute_reply": "2020-09-10T02:54:07.380209Z"
        },
        "papermill": {
          "duration": 1.395986,
          "end_time": "2020-09-10T02:54:07.380751",
          "exception": false,
          "start_time": "2020-09-10T02:54:05.984765",
          "status": "completed"
        },
        "tags": [],
        "id": "WAol1HFfN7nF",
        "colab_type": "code",
        "colab": {
          "base_uri": "https://localhost:8080/",
          "height": 0
        },
        "outputId": "e1717263-ebd6-410a-8b15-f2c4ab0a0065"
      },
      "source": [
        "start = time.time()\n",
        "inputs = tokenizer.encode(\"summarize: \" + df.iloc[0]['content'], return_tensors=\"pt\", max_length=149, truncation=True)\n",
        "outputs = model.generate(inputs, max_length=150, min_length=40, length_penalty=2.0, num_beams=4, early_stopping=True)\n",
        "decoded_GPT2 = tokenizer.decode(outputs[0])\n",
        "end = time.time()\n",
        "GPT2_time = (end - start)\n",
        "print(GPT2_time)"
      ],
      "execution_count": 21,
      "outputs": [
        {
          "output_type": "stream",
          "text": [
            "Setting `pad_token_id` to 50256 (first `eos_token_id`) to generate sequence\n"
          ],
          "name": "stderr"
        },
        {
          "output_type": "stream",
          "text": [
            "2.898517608642578\n"
          ],
          "name": "stdout"
        }
      ]
    },
    {
      "cell_type": "code",
      "metadata": {
        "id": "wz5GtWNIcb-t",
        "colab_type": "code",
        "colab": {
          "base_uri": "https://localhost:8080/",
          "height": 0
        },
        "outputId": "dd8cc3dd-b23b-4c77-d82d-855a9e0cbff4"
      },
      "source": [
        "del tokenizer\n",
        "del model\n",
        "gc.collect()"
      ],
      "execution_count": 22,
      "outputs": [
        {
          "output_type": "execute_result",
          "data": {
            "text/plain": [
              "0"
            ]
          },
          "metadata": {
            "tags": []
          },
          "execution_count": 22
        }
      ]
    },
    {
      "cell_type": "markdown",
      "metadata": {
        "papermill": {
          "duration": 0.019528,
          "end_time": "2020-09-10T02:54:07.416080",
          "exception": false,
          "start_time": "2020-09-10T02:54:07.396552",
          "status": "completed"
        },
        "tags": [],
        "id": "b9b9Xo1mN7nH",
        "colab_type": "text"
      },
      "source": [
        "### T5 Trained on Wikihow"
      ]
    },
    {
      "cell_type": "code",
      "metadata": {
        "execution": {
          "iopub.execute_input": "2020-09-10T02:54:07.452192Z",
          "iopub.status.busy": "2020-09-10T02:54:07.450496Z",
          "iopub.status.idle": "2020-09-10T02:54:47.231471Z",
          "shell.execute_reply": "2020-09-10T02:54:47.232341Z"
        },
        "papermill": {
          "duration": 39.80105,
          "end_time": "2020-09-10T02:54:47.232542",
          "exception": false,
          "start_time": "2020-09-10T02:54:07.431492",
          "status": "completed"
        },
        "tags": [],
        "id": "YzgYA9cTN7nH",
        "colab_type": "code",
        "colab": {}
      },
      "source": [
        "model = AutoModelForSeq2SeqLM.from_pretrained(\"deep-learning-analytics/wikihow-t5-small\")\n",
        "tokenizer = AutoTokenizer.from_pretrained(\"deep-learning-analytics/wikihow-t5-small\")"
      ],
      "execution_count": 23,
      "outputs": []
    },
    {
      "cell_type": "code",
      "metadata": {
        "execution": {
          "iopub.execute_input": "2020-09-10T02:54:47.295503Z",
          "iopub.status.busy": "2020-09-10T02:54:47.294672Z",
          "iopub.status.idle": "2020-09-10T02:54:53.978223Z",
          "shell.execute_reply": "2020-09-10T02:54:53.977554Z"
        },
        "papermill": {
          "duration": 6.718626,
          "end_time": "2020-09-10T02:54:53.978357",
          "exception": false,
          "start_time": "2020-09-10T02:54:47.259731",
          "status": "completed"
        },
        "tags": [],
        "id": "6gKF3f5xN7nJ",
        "colab_type": "code",
        "colab": {
          "base_uri": "https://localhost:8080/",
          "height": 0
        },
        "outputId": "806d9ad8-ef86-46bd-cb6d-e70fa939b996"
      },
      "source": [
        "start = time.time()\n",
        "inputs = tokenizer.encode(\"summarize: \" + df.iloc[0]['content'], return_tensors=\"pt\", max_length=1024, truncation=True)\n",
        "outputs = model.generate(inputs, min_length=40, length_penalty=2.0, num_beams=4, early_stopping=True)\n",
        "decoded_T5_wikihow = tokenizer.decode(outputs[0])\n",
        "end = time.time()\n",
        "t5_wikihow_time = (end - start)\n",
        "print(t5_wikihow_time)"
      ],
      "execution_count": 24,
      "outputs": [
        {
          "output_type": "stream",
          "text": [
            "3.8904318809509277\n"
          ],
          "name": "stdout"
        }
      ]
    },
    {
      "cell_type": "code",
      "metadata": {
        "id": "52ZIJTRTcdhE",
        "colab_type": "code",
        "colab": {
          "base_uri": "https://localhost:8080/",
          "height": 0
        },
        "outputId": "c49b6998-6d78-463a-9474-c15d86127268"
      },
      "source": [
        "del tokenizer\n",
        "del model\n",
        "gc.collect()"
      ],
      "execution_count": 25,
      "outputs": [
        {
          "output_type": "execute_result",
          "data": {
            "text/plain": [
              "318"
            ]
          },
          "metadata": {
            "tags": []
          },
          "execution_count": 25
        }
      ]
    },
    {
      "cell_type": "markdown",
      "metadata": {
        "papermill": {
          "duration": 0.029707,
          "end_time": "2020-09-10T02:54:54.025583",
          "exception": false,
          "start_time": "2020-09-10T02:54:53.995876",
          "status": "completed"
        },
        "tags": [],
        "id": "7seudGX6N7nN",
        "colab_type": "text"
      },
      "source": [
        "### Pegasus NewsRoom"
      ]
    },
    {
      "cell_type": "code",
      "metadata": {
        "execution": {
          "iopub.execute_input": "2020-09-10T02:54:54.071429Z",
          "iopub.status.busy": "2020-09-10T02:54:54.070020Z",
          "iopub.status.idle": "2020-09-10T02:59:04.051198Z",
          "shell.execute_reply": "2020-09-10T02:59:04.048281Z"
        },
        "papermill": {
          "duration": 250.001632,
          "end_time": "2020-09-10T02:59:04.051315",
          "exception": false,
          "start_time": "2020-09-10T02:54:54.049683",
          "status": "completed"
        },
        "tags": [],
        "id": "JgcUZFfmN7nN",
        "colab_type": "code",
        "colab": {}
      },
      "source": [
        "model = AutoModelForSeq2SeqLM.from_pretrained(\"google/pegasus-newsroom\")\n",
        "tokenizer = AutoTokenizer.from_pretrained(\"google/pegasus-newsroom\")"
      ],
      "execution_count": 26,
      "outputs": []
    },
    {
      "cell_type": "code",
      "metadata": {
        "execution": {
          "iopub.execute_input": "2020-09-10T02:59:04.147139Z",
          "iopub.status.busy": "2020-09-10T02:59:04.146363Z",
          "iopub.status.idle": "2020-09-10T02:59:35.363751Z",
          "shell.execute_reply": "2020-09-10T02:59:35.363034Z"
        },
        "papermill": {
          "duration": 31.294569,
          "end_time": "2020-09-10T02:59:35.363923",
          "exception": false,
          "start_time": "2020-09-10T02:59:04.069354",
          "status": "completed"
        },
        "tags": [],
        "id": "DtGV-dLTN7nP",
        "colab_type": "code",
        "colab": {
          "base_uri": "https://localhost:8080/",
          "height": 0
        },
        "outputId": "c6bfe373-1905-454d-f9f1-0f6f32994031"
      },
      "source": [
        "start = time.time()\n",
        "batch = tokenizer.prepare_seq2seq_batch(df['content'].tolist()[:1], max_target_length=200, padding='longest')\n",
        "translated = model.generate(**batch)\n",
        "tgt_text = tokenizer.batch_decode(translated, skip_special_tokens=True)\n",
        "end = time.time()\n",
        "decoded_pegasus_newsroom = tgt_text[0]\n",
        "pegasus_newsroom_time = (end - start)\n",
        "print(pegasus_newsroom_time)"
      ],
      "execution_count": 27,
      "outputs": [
        {
          "output_type": "stream",
          "text": [
            "36.82069110870361\n"
          ],
          "name": "stdout"
        }
      ]
    },
    {
      "cell_type": "code",
      "metadata": {
        "id": "428GQdVnckMf",
        "colab_type": "code",
        "colab": {
          "base_uri": "https://localhost:8080/",
          "height": 0
        },
        "outputId": "52f33f86-409d-47c8-eb63-9d159ac4cefe"
      },
      "source": [
        "del tokenizer\n",
        "del model\n",
        "gc.collect()"
      ],
      "execution_count": 28,
      "outputs": [
        {
          "output_type": "execute_result",
          "data": {
            "text/plain": [
              "1375"
            ]
          },
          "metadata": {
            "tags": []
          },
          "execution_count": 28
        }
      ]
    },
    {
      "cell_type": "markdown",
      "metadata": {
        "papermill": {
          "duration": 0.017022,
          "end_time": "2020-09-10T02:59:35.403778",
          "exception": false,
          "start_time": "2020-09-10T02:59:35.386756",
          "status": "completed"
        },
        "tags": [],
        "id": "CQwDb8ZfN7nR",
        "colab_type": "text"
      },
      "source": [
        "\n",
        "\n",
        "```\n",
        "# This is formatted as code\n",
        "```\n",
        "\n",
        "### Pegasus CNN Daily Mail"
      ]
    },
    {
      "cell_type": "code",
      "metadata": {
        "execution": {
          "iopub.execute_input": "2020-09-10T02:59:35.442984Z",
          "iopub.status.busy": "2020-09-10T02:59:35.442175Z",
          "iopub.status.idle": "2020-09-10T03:04:05.698548Z",
          "shell.execute_reply": "2020-09-10T03:04:05.698065Z"
        },
        "papermill": {
          "duration": 270.277694,
          "end_time": "2020-09-10T03:04:05.698656",
          "exception": false,
          "start_time": "2020-09-10T02:59:35.420962",
          "status": "completed"
        },
        "tags": [],
        "id": "BcpZP7CjN7nR",
        "colab_type": "code",
        "colab": {}
      },
      "source": [
        "tokenizer = AutoTokenizer.from_pretrained(\"google/pegasus-cnn_dailymail\")\n",
        "model = AutoModelForSeq2SeqLM.from_pretrained(\"google/pegasus-cnn_dailymail\")"
      ],
      "execution_count": 29,
      "outputs": []
    },
    {
      "cell_type": "code",
      "metadata": {
        "execution": {
          "iopub.execute_input": "2020-09-10T03:04:05.756746Z",
          "iopub.status.busy": "2020-09-10T03:04:05.755995Z",
          "iopub.status.idle": "2020-09-10T03:05:18.172874Z",
          "shell.execute_reply": "2020-09-10T03:05:18.172121Z"
        },
        "papermill": {
          "duration": 72.455634,
          "end_time": "2020-09-10T03:05:18.173010",
          "exception": false,
          "start_time": "2020-09-10T03:04:05.717376",
          "status": "completed"
        },
        "tags": [],
        "id": "BDVdVqaEN7nT",
        "colab_type": "code",
        "colab": {
          "base_uri": "https://localhost:8080/",
          "height": 0
        },
        "outputId": "909a783c-87e9-43c4-8cee-b6b3a5b2cbc4"
      },
      "source": [
        "start = time.time()\n",
        "batch = tokenizer.prepare_seq2seq_batch(df['content'].tolist()[:1], max_target_length=200, padding='longest')\n",
        "translated = model.generate(**batch)\n",
        "tgt_text = tokenizer.batch_decode(translated, skip_special_tokens=True)\n",
        "end = time.time()\n",
        "decoded_pegasus_cnn = tgt_text[0]\n",
        "pegasus_cnn_time = (end - start)\n",
        "print(pegasus_cnn_time)"
      ],
      "execution_count": 30,
      "outputs": [
        {
          "output_type": "stream",
          "text": [
            "87.57470607757568\n"
          ],
          "name": "stdout"
        }
      ]
    },
    {
      "cell_type": "code",
      "metadata": {
        "id": "NzTTEOE9SGeK",
        "colab_type": "code",
        "colab": {
          "base_uri": "https://localhost:8080/",
          "height": 0
        },
        "outputId": "ad39b5e8-7df5-4539-9aaf-2e994f9bb401"
      },
      "source": [
        "del tokenizer\n",
        "del model\n",
        "gc.collect()"
      ],
      "execution_count": 31,
      "outputs": [
        {
          "output_type": "execute_result",
          "data": {
            "text/plain": [
              "1375"
            ]
          },
          "metadata": {
            "tags": []
          },
          "execution_count": 31
        }
      ]
    },
    {
      "cell_type": "markdown",
      "metadata": {
        "id": "LX7bDSBWR788",
        "colab_type": "text"
      },
      "source": [
        "### Pegasus Multi News"
      ]
    },
    {
      "cell_type": "code",
      "metadata": {
        "id": "iJ_kN1qzR_1H",
        "colab_type": "code",
        "colab": {}
      },
      "source": [
        "tokenizer = AutoTokenizer.from_pretrained(\"google/pegasus-multi_news\")\n",
        "model = AutoModelForSeq2SeqLM.from_pretrained(\"google/pegasus-multi_news\")"
      ],
      "execution_count": 32,
      "outputs": []
    },
    {
      "cell_type": "code",
      "metadata": {
        "id": "8NhGym31SC4L",
        "colab_type": "code",
        "colab": {
          "base_uri": "https://localhost:8080/",
          "height": 0
        },
        "outputId": "bc91f66c-af8f-4f47-8146-865589817875"
      },
      "source": [
        "start = time.time()\n",
        "batch = tokenizer.prepare_seq2seq_batch(df['content'].tolist()[:1], max_target_length=100, padding='longest')\n",
        "translated = model.generate(**batch)\n",
        "tgt_text = tokenizer.batch_decode(translated, skip_special_tokens=True)\n",
        "end = time.time()\n",
        "decoded_pegasus_multi = tgt_text[0]\n",
        "pegasus_multi_time = (end - start)\n",
        "print(pegasus_multi_time)"
      ],
      "execution_count": 33,
      "outputs": [
        {
          "output_type": "stream",
          "text": [
            "233.9433662891388\n"
          ],
          "name": "stdout"
        }
      ]
    },
    {
      "cell_type": "code",
      "metadata": {
        "id": "N6cmuWRPVsll",
        "colab_type": "code",
        "colab": {
          "base_uri": "https://localhost:8080/",
          "height": 0
        },
        "outputId": "5e78d624-4785-4bcf-bfc6-5e1d0d57877b"
      },
      "source": [
        "del tokenizer\n",
        "del model\n",
        "gc.collect()"
      ],
      "execution_count": 34,
      "outputs": [
        {
          "output_type": "execute_result",
          "data": {
            "text/plain": [
              "1375"
            ]
          },
          "metadata": {
            "tags": []
          },
          "execution_count": 34
        }
      ]
    },
    {
      "cell_type": "markdown",
      "metadata": {
        "id": "yOt1ozGkWBZj",
        "colab_type": "text"
      },
      "source": [
        "### Pegasus Billsum"
      ]
    },
    {
      "cell_type": "code",
      "metadata": {
        "id": "AOeRFAYVWKQl",
        "colab_type": "code",
        "colab": {}
      },
      "source": [
        "tokenizer = AutoTokenizer.from_pretrained(\"google/pegasus-billsum\")\n",
        "model = AutoModelForSeq2SeqLM.from_pretrained(\"google/pegasus-billsum\")"
      ],
      "execution_count": 35,
      "outputs": []
    },
    {
      "cell_type": "code",
      "metadata": {
        "id": "3L0mxqGDWKaG",
        "colab_type": "code",
        "colab": {
          "base_uri": "https://localhost:8080/",
          "height": 0
        },
        "outputId": "a30052a9-525a-4ca6-bfe8-585125579ca6"
      },
      "source": [
        "start = time.time()\n",
        "batch = tokenizer.prepare_seq2seq_batch(df['content'].tolist()[:1], max_target_length=100, padding='longest')\n",
        "translated = model.generate(**batch)\n",
        "tgt_text = tokenizer.batch_decode(translated, skip_special_tokens=True)\n",
        "end = time.time()\n",
        "decoded_pegasus_billsum = tgt_text[0]\n",
        "pegasus_billsum_time = (end - start)\n",
        "print(pegasus_billsum_time)"
      ],
      "execution_count": 36,
      "outputs": [
        {
          "output_type": "stream",
          "text": [
            "93.06485223770142\n"
          ],
          "name": "stdout"
        }
      ]
    },
    {
      "cell_type": "code",
      "metadata": {
        "id": "hepe4bbZWz2C",
        "colab_type": "code",
        "colab": {
          "base_uri": "https://localhost:8080/",
          "height": 0
        },
        "outputId": "12941b80-78e2-4916-f25e-53453dacc251"
      },
      "source": [
        "del tokenizer\n",
        "del model\n",
        "gc.collect()"
      ],
      "execution_count": 37,
      "outputs": [
        {
          "output_type": "execute_result",
          "data": {
            "text/plain": [
              "1375"
            ]
          },
          "metadata": {
            "tags": []
          },
          "execution_count": 37
        }
      ]
    },
    {
      "cell_type": "markdown",
      "metadata": {
        "id": "rcjjhd1XVCeq",
        "colab_type": "text"
      },
      "source": [
        "## Remove Stop Words from Text And Run Some Models\n",
        "\n",
        "Testing to see if removing stop words improve performance without reducing any accuracy "
      ]
    },
    {
      "cell_type": "code",
      "metadata": {
        "id": "jlaRzbPUVKMQ",
        "colab_type": "code",
        "colab": {
          "base_uri": "https://localhost:8080/",
          "height": 0
        },
        "outputId": "4391ecf2-0bb2-42fb-d97f-75629a129f93"
      },
      "source": [
        "from nltk.corpus import stopwords\n",
        "import nltk\n",
        "nltk.download('stopwords')\n",
        "stoplist = stopwords.words('english')\n",
        "src_text = df.iloc[0]['content']\n",
        "clean_word_list = [word for word in src_text.split() if word not in stoplist]\n",
        "clean_src_text = \"\"\n",
        "print(clean_word_list)\n",
        "for x in clean_word_list:\n",
        "  clean_src_text = clean_src_text + x + \" \"\n",
        "\n",
        "clean_src_text = clean_src_text[:-1]\n",
        "print(src_text)\n",
        "print(clean_src_text)"
      ],
      "execution_count": 38,
      "outputs": [
        {
          "output_type": "stream",
          "text": [
            "[nltk_data] Downloading package stopwords to /root/nltk_data...\n",
            "[nltk_data]   Package stopwords is already up-to-date!\n",
            "['WASHINGTON', '—', 'Congressional', 'Republicans', 'new', 'fear', 'comes', 'health', 'care', 'lawsuit', 'Obama', 'administration:', 'They', 'might', 'win.', 'The', 'incoming', 'Trump', 'administration', 'could', 'choose', 'longer', 'defend', 'executive', 'branch', 'suit,', 'challenges', 'administration’s', 'authority', 'spend', 'billions', 'dollars', 'health', 'insurance', 'subsidies', 'Americans,', 'handing', 'House', 'Republicans', 'big', 'victory', 'issues.', 'But', 'sudden', 'loss', 'disputed', 'subsidies', 'could', 'conceivably', 'cause', 'health', 'care', 'program', 'implode,', 'leaving', 'millions', 'people', 'without', 'access', 'health', 'insurance', 'Republicans', 'prepared', 'replacement.', 'That', 'could', 'lead', 'chaos', 'insurance', 'market', 'spur', 'political', 'backlash', 'Republicans', 'gain', 'full', 'control', 'government.', 'To', 'stave', 'outcome,', 'Republicans', 'could', 'find', 'awkward', 'position', 'appropriating', 'huge', 'sums', 'temporarily', 'prop', 'Obama', 'health', 'care', 'law,', 'angering', 'conservative', 'voters', 'demanding', 'end', 'law', 'years.', 'In', 'another', 'twist,', 'Donald', 'J.', 'Trump’s', 'administration,', 'worried', 'preserving', 'executive', 'branch', 'prerogatives,', 'could', 'choose', 'fight', 'Republican', 'allies', 'House', 'central', 'questions', 'dispute.', 'Eager', 'avoid', 'ugly', 'political', 'pileup,', 'Republicans', 'Capitol', 'Hill', 'Trump', 'transition', 'team', 'gaming', 'handle', 'lawsuit,', 'which,', 'election,', 'put', 'limbo', 'least', 'late', 'February', 'United', 'States', 'Court', 'Appeals', 'District', 'Columbia', 'Circuit.', 'They', 'yet', 'ready', 'divulge', 'strategy.', '“Given', 'pending', 'litigation', 'involves', 'Obama', 'administration', 'Congress,', 'would', 'inappropriate', 'comment,”', 'said', 'Phillip', 'J.', 'Blando,', 'spokesman', 'Trump', 'transition', 'effort.', '“Upon', 'taking', 'office,', 'Trump', 'administration', 'evaluate', 'case', 'related', 'aspects', 'Affordable', 'Care', 'Act.', '”', 'In', 'potentially', 'decision', '2015,', 'Judge', 'Rosemary', 'M.', 'Collyer', 'ruled', 'House', 'Republicans', 'standing', 'sue', 'executive', 'branch', 'spending', 'dispute', 'Obama', 'administration', 'distributing', 'health', 'insurance', 'subsidies,', 'violation', 'Constitution,', 'without', 'approval', 'Congress.', 'The', 'Justice', 'Department,', 'confident', 'Judge', 'Collyer’s', 'decision', 'would', 'reversed,', 'quickly', 'appealed,', 'subsidies', 'remained', 'place', 'appeal.', 'In', 'successfully', 'seeking', 'temporary', 'halt', 'proceedings', 'Mr.', 'Trump', 'won,', 'House', 'Republicans', 'last', 'month', 'told', 'court', '“and', '’s', 'transition', 'team', 'currently', 'discussing', 'potential', 'options', 'resolution', 'matter,', 'take', 'effect', '’s', 'inauguration', 'Jan.', '20,', '2017.', '”', 'The', 'suspension', 'case,', 'House', 'lawyers', 'said,', '“provide', 'future', 'administration', 'time', 'consider', 'whether', 'continue', 'prosecuting', 'otherwise', 'resolve', 'appeal.', '”', 'Republican', 'leadership', 'officials', 'House', 'acknowledge', 'possibility', '“cascading', 'effects”', 'payments,', 'totaled', 'estimated', '$13', 'billion,', 'suddenly', 'stopped.', 'Insurers', 'receive', 'subsidies', 'exchange', 'paying', 'costs', 'deductibles', 'eligible', 'consumers', 'could', 'race', 'drop', 'coverage', 'since', 'would', 'losing', 'money.', 'Over', 'all,', 'loss', 'subsidies', 'could', 'destabilize', 'entire', 'program', 'cause', 'lack', 'confidence', 'leads', 'insurers', 'seek', 'quick', 'exit', 'well.', 'Anticipating', 'Trump', 'administration', 'might', 'inclined', 'mount', 'vigorous', 'fight', 'House', 'Republicans', 'given', '’s', 'dim', 'view', 'health', 'care', 'law,', 'team', 'lawyers', 'month', 'sought', 'intervene', 'case', 'behalf', 'two', 'participants', 'health', 'care', 'program.', 'In', 'request,', 'lawyers', 'predicted', 'deal', 'House', 'Republicans', 'new', 'administration', 'dismiss', 'settle', 'case', '“will', 'produce', 'devastating', 'consequences', 'individuals', 'receive', 'reductions,', 'well', 'nation’s', 'health', 'insurance', 'health', 'care', 'systems', 'generally.', '”', 'No', 'matter', 'happens,', 'House', 'Republicans', 'say,', 'want', 'prevail', 'two', 'overarching', 'concepts:', 'congressional', 'power', 'purse,', 'right', 'Congress', 'sue', 'executive', 'branch', 'violates', 'Constitution', 'regarding', 'spending', 'power.', 'House', 'Republicans', 'contend', 'Congress', 'never', 'appropriated', 'money', 'subsidies,', 'required', 'Constitution.', 'In', 'suit,', 'initially', 'championed', 'John', 'A.', 'Boehner,', 'House', 'speaker', 'time,', 'later', 'House', 'committee', 'reports,', 'Republicans', 'asserted', 'administration,', 'desperate', 'funding,', 'required', 'Treasury', 'Department', 'provide', 'despite', 'widespread', 'internal', 'skepticism', 'spending', 'proper.', 'The', 'White', 'House', 'said', 'spending', 'permanent', 'part', 'law', 'passed', '2010,', 'annual', 'appropriation', 'required', '—', 'even', 'though', 'administration', 'initially', 'sought', 'one.', 'Just', 'important', 'House', 'Republicans,', 'Judge', 'Collyer', 'found', 'Congress', 'standing', 'sue', 'White', 'House', 'issue', '—', 'ruling', 'many', 'legal', 'experts', 'said', 'flawed', '—', 'want', 'precedent', 'set', 'restore', 'congressional', 'leverage', 'executive', 'branch.', 'But', 'spending', 'power', 'standing,', 'Trump', 'administration', 'may', 'come', 'pressure', 'advocates', 'presidential', 'authority', 'fight', 'House', 'matter', 'shared', 'views', 'health', 'care,', 'since', 'precedents', 'could', 'broad', 'repercussions.', 'It', 'complicated', 'set', 'dynamics', 'illustrating', 'quick', 'legal', 'victory', 'House', 'Trump', 'era', 'might', 'come', 'costs', 'Republicans', 'never', 'anticipated', 'took', 'Obama', 'White', 'House.']\n",
            "WASHINGTON  —   Congressional Republicans have a new fear when it comes to their    health care lawsuit against the Obama administration: They might win. The incoming Trump administration could choose to no longer defend the executive branch against the suit, which challenges the administration’s authority to spend billions of dollars on health insurance subsidies for   and   Americans, handing House Republicans a big victory on    issues. But a sudden loss of the disputed subsidies could conceivably cause the health care program to implode, leaving millions of people without access to health insurance before Republicans have prepared a replacement. That could lead to chaos in the insurance market and spur a political backlash just as Republicans gain full control of the government. To stave off that outcome, Republicans could find themselves in the awkward position of appropriating huge sums to temporarily prop up the Obama health care law, angering conservative voters who have been demanding an end to the law for years. In another twist, Donald J. Trump’s administration, worried about preserving executive branch prerogatives, could choose to fight its Republican allies in the House on some central questions in the dispute. Eager to avoid an ugly political pileup, Republicans on Capitol Hill and the Trump transition team are gaming out how to handle the lawsuit, which, after the election, has been put in limbo until at least late February by the United States Court of Appeals for the District of Columbia Circuit. They are not yet ready to divulge their strategy. “Given that this pending litigation involves the Obama administration and Congress, it would be inappropriate to comment,” said Phillip J. Blando, a spokesman for the Trump transition effort. “Upon taking office, the Trump administration will evaluate this case and all related aspects of the Affordable Care Act. ” In a potentially   decision in 2015, Judge Rosemary M. Collyer ruled that House Republicans had the standing to sue the executive branch over a spending dispute and that the Obama administration had been distributing the health insurance subsidies, in violation of the Constitution, without approval from Congress. The Justice Department, confident that Judge Collyer’s decision would be reversed, quickly appealed, and the subsidies have remained in place during the appeal. In successfully seeking a temporary halt in the proceedings after Mr. Trump won, House Republicans last month told the court that they “and the  ’s transition team currently are discussing potential options for resolution of this matter, to take effect after the  ’s inauguration on Jan. 20, 2017. ” The suspension of the case, House lawyers said, will “provide the   and his future administration time to consider whether to continue prosecuting or to otherwise resolve this appeal. ” Republican leadership officials in the House acknowledge the possibility of “cascading effects” if the   payments, which have totaled an estimated $13 billion, are suddenly stopped. Insurers that receive the subsidies in exchange for paying    costs such as deductibles and   for eligible consumers could race to drop coverage since they would be losing money. Over all, the loss of the subsidies could destabilize the entire program and cause a lack of confidence that leads other insurers to seek a quick exit as well. Anticipating that the Trump administration might not be inclined to mount a vigorous fight against the House Republicans given the  ’s dim view of the health care law, a team of lawyers this month sought to intervene in the case on behalf of two participants in the health care program. In their request, the lawyers predicted that a deal between House Republicans and the new administration to dismiss or settle the case “will produce devastating consequences for the individuals who receive these reductions, as well as for the nation’s health insurance and health care systems generally. ” No matter what happens, House Republicans say, they want to prevail on two overarching concepts: the congressional power of the purse, and the right of Congress to sue the executive branch if it violates the Constitution regarding that spending power. House Republicans contend that Congress never appropriated the money for the subsidies, as required by the Constitution. In the suit, which was initially championed by John A. Boehner, the House speaker at the time, and later in House committee reports, Republicans asserted that the administration, desperate for the funding, had required the Treasury Department to provide it despite widespread internal skepticism that the spending was proper. The White House said that the spending was a permanent part of the law passed in 2010, and that no annual appropriation was required  —   even though the administration initially sought one. Just as important to House Republicans, Judge Collyer found that Congress had the standing to sue the White House on this issue  —   a ruling that many legal experts said was flawed  —   and they want that precedent to be set to restore congressional leverage over the executive branch. But on spending power and standing, the Trump administration may come under pressure from advocates of presidential authority to fight the House no matter their shared views on health care, since those precedents could have broad repercussions. It is a complicated set of dynamics illustrating how a quick legal victory for the House in the Trump era might come with costs that Republicans never anticipated when they took on the Obama White House.\n",
            "WASHINGTON — Congressional Republicans new fear comes health care lawsuit Obama administration: They might win. The incoming Trump administration could choose longer defend executive branch suit, challenges administration’s authority spend billions dollars health insurance subsidies Americans, handing House Republicans big victory issues. But sudden loss disputed subsidies could conceivably cause health care program implode, leaving millions people without access health insurance Republicans prepared replacement. That could lead chaos insurance market spur political backlash Republicans gain full control government. To stave outcome, Republicans could find awkward position appropriating huge sums temporarily prop Obama health care law, angering conservative voters demanding end law years. In another twist, Donald J. Trump’s administration, worried preserving executive branch prerogatives, could choose fight Republican allies House central questions dispute. Eager avoid ugly political pileup, Republicans Capitol Hill Trump transition team gaming handle lawsuit, which, election, put limbo least late February United States Court Appeals District Columbia Circuit. They yet ready divulge strategy. “Given pending litigation involves Obama administration Congress, would inappropriate comment,” said Phillip J. Blando, spokesman Trump transition effort. “Upon taking office, Trump administration evaluate case related aspects Affordable Care Act. ” In potentially decision 2015, Judge Rosemary M. Collyer ruled House Republicans standing sue executive branch spending dispute Obama administration distributing health insurance subsidies, violation Constitution, without approval Congress. The Justice Department, confident Judge Collyer’s decision would reversed, quickly appealed, subsidies remained place appeal. In successfully seeking temporary halt proceedings Mr. Trump won, House Republicans last month told court “and ’s transition team currently discussing potential options resolution matter, take effect ’s inauguration Jan. 20, 2017. ” The suspension case, House lawyers said, “provide future administration time consider whether continue prosecuting otherwise resolve appeal. ” Republican leadership officials House acknowledge possibility “cascading effects” payments, totaled estimated $13 billion, suddenly stopped. Insurers receive subsidies exchange paying costs deductibles eligible consumers could race drop coverage since would losing money. Over all, loss subsidies could destabilize entire program cause lack confidence leads insurers seek quick exit well. Anticipating Trump administration might inclined mount vigorous fight House Republicans given ’s dim view health care law, team lawyers month sought intervene case behalf two participants health care program. In request, lawyers predicted deal House Republicans new administration dismiss settle case “will produce devastating consequences individuals receive reductions, well nation’s health insurance health care systems generally. ” No matter happens, House Republicans say, want prevail two overarching concepts: congressional power purse, right Congress sue executive branch violates Constitution regarding spending power. House Republicans contend Congress never appropriated money subsidies, required Constitution. In suit, initially championed John A. Boehner, House speaker time, later House committee reports, Republicans asserted administration, desperate funding, required Treasury Department provide despite widespread internal skepticism spending proper. The White House said spending permanent part law passed 2010, annual appropriation required — even though administration initially sought one. Just important House Republicans, Judge Collyer found Congress standing sue White House issue — ruling many legal experts said flawed — want precedent set restore congressional leverage executive branch. But spending power standing, Trump administration may come pressure advocates presidential authority fight House matter shared views health care, since precedents could broad repercussions. It complicated set dynamics illustrating quick legal victory House Trump era might come costs Republicans never anticipated took Obama White House.\n"
          ],
          "name": "stdout"
        }
      ]
    },
    {
      "cell_type": "code",
      "metadata": {
        "id": "ynKXkJxcdMfE",
        "colab_type": "code",
        "colab": {
          "base_uri": "https://localhost:8080/",
          "height": 0
        },
        "outputId": "796197f9-14b2-4660-fcd0-d6163c8cf121"
      },
      "source": [
        "clean_src_text"
      ],
      "execution_count": 39,
      "outputs": [
        {
          "output_type": "execute_result",
          "data": {
            "application/vnd.google.colaboratory.intrinsic+json": {
              "type": "string"
            },
            "text/plain": [
              "'WASHINGTON — Congressional Republicans new fear comes health care lawsuit Obama administration: They might win. The incoming Trump administration could choose longer defend executive branch suit, challenges administration’s authority spend billions dollars health insurance subsidies Americans, handing House Republicans big victory issues. But sudden loss disputed subsidies could conceivably cause health care program implode, leaving millions people without access health insurance Republicans prepared replacement. That could lead chaos insurance market spur political backlash Republicans gain full control government. To stave outcome, Republicans could find awkward position appropriating huge sums temporarily prop Obama health care law, angering conservative voters demanding end law years. In another twist, Donald J. Trump’s administration, worried preserving executive branch prerogatives, could choose fight Republican allies House central questions dispute. Eager avoid ugly political pileup, Republicans Capitol Hill Trump transition team gaming handle lawsuit, which, election, put limbo least late February United States Court Appeals District Columbia Circuit. They yet ready divulge strategy. “Given pending litigation involves Obama administration Congress, would inappropriate comment,” said Phillip J. Blando, spokesman Trump transition effort. “Upon taking office, Trump administration evaluate case related aspects Affordable Care Act. ” In potentially decision 2015, Judge Rosemary M. Collyer ruled House Republicans standing sue executive branch spending dispute Obama administration distributing health insurance subsidies, violation Constitution, without approval Congress. The Justice Department, confident Judge Collyer’s decision would reversed, quickly appealed, subsidies remained place appeal. In successfully seeking temporary halt proceedings Mr. Trump won, House Republicans last month told court “and ’s transition team currently discussing potential options resolution matter, take effect ’s inauguration Jan. 20, 2017. ” The suspension case, House lawyers said, “provide future administration time consider whether continue prosecuting otherwise resolve appeal. ” Republican leadership officials House acknowledge possibility “cascading effects” payments, totaled estimated $13 billion, suddenly stopped. Insurers receive subsidies exchange paying costs deductibles eligible consumers could race drop coverage since would losing money. Over all, loss subsidies could destabilize entire program cause lack confidence leads insurers seek quick exit well. Anticipating Trump administration might inclined mount vigorous fight House Republicans given ’s dim view health care law, team lawyers month sought intervene case behalf two participants health care program. In request, lawyers predicted deal House Republicans new administration dismiss settle case “will produce devastating consequences individuals receive reductions, well nation’s health insurance health care systems generally. ” No matter happens, House Republicans say, want prevail two overarching concepts: congressional power purse, right Congress sue executive branch violates Constitution regarding spending power. House Republicans contend Congress never appropriated money subsidies, required Constitution. In suit, initially championed John A. Boehner, House speaker time, later House committee reports, Republicans asserted administration, desperate funding, required Treasury Department provide despite widespread internal skepticism spending proper. The White House said spending permanent part law passed 2010, annual appropriation required — even though administration initially sought one. Just important House Republicans, Judge Collyer found Congress standing sue White House issue — ruling many legal experts said flawed — want precedent set restore congressional leverage executive branch. But spending power standing, Trump administration may come pressure advocates presidential authority fight House matter shared views health care, since precedents could broad repercussions. It complicated set dynamics illustrating quick legal victory House Trump era might come costs Republicans never anticipated took Obama White House.'"
            ]
          },
          "metadata": {
            "tags": []
          },
          "execution_count": 39
        }
      ]
    },
    {
      "cell_type": "markdown",
      "metadata": {
        "id": "R_rB0zeueP2M",
        "colab_type": "text"
      },
      "source": [
        "### T5"
      ]
    },
    {
      "cell_type": "code",
      "metadata": {
        "id": "z2BvPs9BeROR",
        "colab_type": "code",
        "colab": {}
      },
      "source": [
        "model = AutoModelForSeq2SeqLM.from_pretrained('t5-base')\n",
        "tokenizer = AutoTokenizer.from_pretrained(\"t5-base\")"
      ],
      "execution_count": 40,
      "outputs": []
    },
    {
      "cell_type": "code",
      "metadata": {
        "id": "RVqf6S5veUgv",
        "colab_type": "code",
        "colab": {
          "base_uri": "https://localhost:8080/",
          "height": 0
        },
        "outputId": "9c4eedf5-fa05-4631-f416-ee7472079f11"
      },
      "source": [
        "start = time.time()\n",
        "inputs = tokenizer.encode(\"summarize: \" + clean_src_text, return_tensors=\"pt\", max_length=512, truncation=True)\n",
        "outputs = model.generate(inputs, max_length=150, min_length=40, length_penalty=2.0, num_beams=4, early_stopping=True)\n",
        "decoded_T5_clean = tokenizer.decode(outputs[0])\n",
        "end = time.time()\n",
        "t5_time_clean = (end - start)\n",
        "print(t5_time_clean)"
      ],
      "execution_count": 41,
      "outputs": [
        {
          "output_type": "stream",
          "text": [
            "60.23696684837341\n"
          ],
          "name": "stdout"
        }
      ]
    },
    {
      "cell_type": "code",
      "metadata": {
        "id": "O_tnaqkYefoV",
        "colab_type": "code",
        "colab": {
          "base_uri": "https://localhost:8080/",
          "height": 0
        },
        "outputId": "14fb9a8b-72f3-4dd0-ecf6-075513ff5591"
      },
      "source": [
        "del tokenizer\n",
        "del model\n",
        "gc.collect()"
      ],
      "execution_count": 42,
      "outputs": [
        {
          "output_type": "execute_result",
          "data": {
            "text/plain": [
              "531"
            ]
          },
          "metadata": {
            "tags": []
          },
          "execution_count": 42
        }
      ]
    },
    {
      "cell_type": "markdown",
      "metadata": {
        "id": "a_T7uQ9aeoMH",
        "colab_type": "text"
      },
      "source": [
        "### Pegasus CNN Daily Mail"
      ]
    },
    {
      "cell_type": "code",
      "metadata": {
        "id": "lRhTFbBievsl",
        "colab_type": "code",
        "colab": {}
      },
      "source": [
        "tokenizer = AutoTokenizer.from_pretrained(\"google/pegasus-cnn_dailymail\")\n",
        "model = AutoModelForSeq2SeqLM.from_pretrained(\"google/pegasus-cnn_dailymail\")"
      ],
      "execution_count": 43,
      "outputs": []
    },
    {
      "cell_type": "code",
      "metadata": {
        "id": "mEfOzlHWe0Wl",
        "colab_type": "code",
        "colab": {
          "base_uri": "https://localhost:8080/",
          "height": 0
        },
        "outputId": "081900f1-b400-42c1-cdde-430eb949f637"
      },
      "source": [
        "start = time.time()\n",
        "batch = tokenizer.prepare_seq2seq_batch([clean_src_text], max_target_length=200, padding='longest')\n",
        "translated = model.generate(**batch)\n",
        "tgt_text = tokenizer.batch_decode(translated, skip_special_tokens=True)\n",
        "end = time.time()\n",
        "decoded_pegasus_cnn_clean = tgt_text[0]\n",
        "pegasus_cnn_time_clean = (end - start)\n",
        "print(pegasus_cnn_time_clean)"
      ],
      "execution_count": 44,
      "outputs": [
        {
          "output_type": "stream",
          "text": [
            "73.52433824539185\n"
          ],
          "name": "stdout"
        }
      ]
    },
    {
      "cell_type": "code",
      "metadata": {
        "id": "Y02RBLZSfDD_",
        "colab_type": "code",
        "colab": {
          "base_uri": "https://localhost:8080/",
          "height": 0
        },
        "outputId": "a4c23e7a-8bdd-4c9a-df58-cd06fb141f71"
      },
      "source": [
        "del tokenizer\n",
        "del model\n",
        "gc.collect()"
      ],
      "execution_count": 45,
      "outputs": [
        {
          "output_type": "execute_result",
          "data": {
            "text/plain": [
              "1375"
            ]
          },
          "metadata": {
            "tags": []
          },
          "execution_count": 45
        }
      ]
    },
    {
      "cell_type": "markdown",
      "metadata": {
        "papermill": {
          "duration": 0.018288,
          "end_time": "2020-09-10T03:05:18.211537",
          "exception": false,
          "start_time": "2020-09-10T03:05:18.193249",
          "status": "completed"
        },
        "tags": [],
        "id": "bCFCT05eN7nV",
        "colab_type": "text"
      },
      "source": [
        "## Results Analysis"
      ]
    },
    {
      "cell_type": "markdown",
      "metadata": {
        "id": "GjikNdlkgV2F",
        "colab_type": "text"
      },
      "source": [
        "### Print All Decoded Summaries"
      ]
    },
    {
      "cell_type": "code",
      "metadata": {
        "execution": {
          "iopub.execute_input": "2020-09-10T03:05:18.252890Z",
          "iopub.status.busy": "2020-09-10T03:05:18.252112Z",
          "iopub.status.idle": "2020-09-10T03:05:18.255495Z",
          "shell.execute_reply": "2020-09-10T03:05:18.255928Z"
        },
        "papermill": {
          "duration": 0.026036,
          "end_time": "2020-09-10T03:05:18.256035",
          "exception": false,
          "start_time": "2020-09-10T03:05:18.229999",
          "status": "completed"
        },
        "tags": [],
        "id": "msuPmbqEN7nV",
        "colab_type": "code",
        "colab": {
          "base_uri": "https://localhost:8080/",
          "height": 86
        },
        "outputId": "d1993008-83c8-4b79-d544-d300936abdb6"
      },
      "source": [
        "decoded_BERT"
      ],
      "execution_count": 46,
      "outputs": [
        {
          "output_type": "execute_result",
          "data": {
            "application/vnd.google.colaboratory.intrinsic+json": {
              "type": "string"
            },
            "text/plain": [
              "'[CLS] summarize : WASHINGTON — Congressional Republicans have a new fear when it comes to their health care lawsuit against the Obama administration : They might win. The incoming Trump administration could choose to no longer defend the executive branch against the suit, which challenges the administration ’ s authority to spend billions of dollars on health insurance subsidies for and Americans, handing House Republicans a big victory on issues. But a sudden loss of the disputed subsidies could conceivably cause the health care [SEP] If - - - - - - - - - - - - that the situation changes when - - - - - - - - - - - - - - - - - If the situation changes, the situation changes. - - - - - -'"
            ]
          },
          "metadata": {
            "tags": []
          },
          "execution_count": 46
        }
      ]
    },
    {
      "cell_type": "code",
      "metadata": {
        "execution": {
          "iopub.execute_input": "2020-09-10T03:05:18.298139Z",
          "iopub.status.busy": "2020-09-10T03:05:18.297286Z",
          "iopub.status.idle": "2020-09-10T03:05:18.301110Z",
          "shell.execute_reply": "2020-09-10T03:05:18.300642Z"
        },
        "papermill": {
          "duration": 0.026569,
          "end_time": "2020-09-10T03:05:18.301195",
          "exception": false,
          "start_time": "2020-09-10T03:05:18.274626",
          "status": "completed"
        },
        "tags": [],
        "id": "1Knp23q7N7nX",
        "colab_type": "code",
        "colab": {
          "base_uri": "https://localhost:8080/",
          "height": 52
        },
        "outputId": "17ca29f9-ebd1-4c48-db1c-83c51605137e"
      },
      "source": [
        "decoded_T5"
      ],
      "execution_count": 47,
      "outputs": [
        {
          "output_type": "execute_result",
          "data": {
            "application/vnd.google.colaboratory.intrinsic+json": {
              "type": "string"
            },
            "text/plain": [
              "'a sudden loss of the disputed subsidies could conceivably cause the health care program to implode. that could lead to chaos in the insurance market and spur a political backlash just as Republicans gain full control of the government. the incoming Trump administration could choose to no longer defend the executive branch against the suit.'"
            ]
          },
          "metadata": {
            "tags": []
          },
          "execution_count": 47
        }
      ]
    },
    {
      "cell_type": "code",
      "metadata": {
        "execution": {
          "iopub.execute_input": "2020-09-10T03:05:18.342353Z",
          "iopub.status.busy": "2020-09-10T03:05:18.341515Z",
          "iopub.status.idle": "2020-09-10T03:05:18.345002Z",
          "shell.execute_reply": "2020-09-10T03:05:18.345562Z"
        },
        "papermill": {
          "duration": 0.025966,
          "end_time": "2020-09-10T03:05:18.345678",
          "exception": false,
          "start_time": "2020-09-10T03:05:18.319712",
          "status": "completed"
        },
        "tags": [],
        "id": "ACzoxbqFN7nY",
        "colab_type": "code",
        "colab": {
          "base_uri": "https://localhost:8080/",
          "height": 86
        },
        "outputId": "ebe419b2-2d4c-47e4-fa46-74515fb65f93"
      },
      "source": [
        "decoded_DistilBERT"
      ],
      "execution_count": 48,
      "outputs": [
        {
          "output_type": "execute_result",
          "data": {
            "application/vnd.google.colaboratory.intrinsic+json": {
              "type": "string"
            },
            "text/plain": [
              "'summarize: WASHINGTON  —   Congressional Republicans have a new fear when it comes to their    health care lawsuit against the Obama administration: They might win. The incoming Trump administration could choose to no longer defend the executive branch against the suit, which challenges the administration’s authority to spend billions of dollars on health insurance subsidies for   and   Americans, handing House Republicans a big victory on    issues. But a sudden loss of the disputed subsidies could conceivably cause the health care program to implode, leaving millions of people without access to health insurance before Republicans have prepared a replacement. That could lead to chaos in the insurance market and spur a political backlash just as Republicans gain full control of the government.'"
            ]
          },
          "metadata": {
            "tags": []
          },
          "execution_count": 48
        }
      ]
    },
    {
      "cell_type": "code",
      "metadata": {
        "execution": {
          "iopub.execute_input": "2020-09-10T03:05:18.387618Z",
          "iopub.status.busy": "2020-09-10T03:05:18.386816Z",
          "iopub.status.idle": "2020-09-10T03:05:18.390496Z",
          "shell.execute_reply": "2020-09-10T03:05:18.390067Z"
        },
        "papermill": {
          "duration": 0.026137,
          "end_time": "2020-09-10T03:05:18.390578",
          "exception": false,
          "start_time": "2020-09-10T03:05:18.364441",
          "status": "completed"
        },
        "tags": [],
        "id": "c8fi73zaN7na",
        "colab_type": "code",
        "colab": {
          "base_uri": "https://localhost:8080/",
          "height": 86
        },
        "outputId": "146292d9-ec41-41cd-8b84-d201c7b09846"
      },
      "source": [
        "decoded_GPT"
      ],
      "execution_count": 49,
      "outputs": [
        {
          "output_type": "execute_result",
          "data": {
            "application/vnd.google.colaboratory.intrinsic+json": {
              "type": "string"
            },
            "text/plain": [
              "'summarize : washington <unk>congressional republicans have a new fear when it comes to their health care lawsuit against the obama administration : they might win. the incoming trump administration could choose to no longer defend the executive branch against the suit, which challenges the administration <unk>s authority to spend billions of dollars on health insurance subsidies for and americans, handing house republicans a big victory on issues. but a sudden loss of the disputed subsidies could conceivably cause the health care program to implode, leaving millions of people without access to health insurance before republicans have prepared a replacement. that could lead to chaos in the insurance market and spur a political backlash just as republicans gain full control of the government. to stave off that outcome, republicans could find a'"
            ]
          },
          "metadata": {
            "tags": []
          },
          "execution_count": 49
        }
      ]
    },
    {
      "cell_type": "code",
      "metadata": {
        "execution": {
          "iopub.execute_input": "2020-09-10T03:05:18.433223Z",
          "iopub.status.busy": "2020-09-10T03:05:18.432488Z",
          "iopub.status.idle": "2020-09-10T03:05:18.435635Z",
          "shell.execute_reply": "2020-09-10T03:05:18.436102Z"
        },
        "papermill": {
          "duration": 0.026444,
          "end_time": "2020-09-10T03:05:18.436205",
          "exception": false,
          "start_time": "2020-09-10T03:05:18.409761",
          "status": "completed"
        },
        "tags": [],
        "id": "C4uWIqJYN7nb",
        "colab_type": "code",
        "colab": {
          "base_uri": "https://localhost:8080/",
          "height": 86
        },
        "outputId": "f9a70465-bc14-4400-8b21-8a5756f459d5"
      },
      "source": [
        "decoded_DistilBERT"
      ],
      "execution_count": 50,
      "outputs": [
        {
          "output_type": "execute_result",
          "data": {
            "application/vnd.google.colaboratory.intrinsic+json": {
              "type": "string"
            },
            "text/plain": [
              "'summarize: WASHINGTON  —   Congressional Republicans have a new fear when it comes to their    health care lawsuit against the Obama administration: They might win. The incoming Trump administration could choose to no longer defend the executive branch against the suit, which challenges the administration’s authority to spend billions of dollars on health insurance subsidies for   and   Americans, handing House Republicans a big victory on    issues. But a sudden loss of the disputed subsidies could conceivably cause the health care program to implode, leaving millions of people without access to health insurance before Republicans have prepared a replacement. That could lead to chaos in the insurance market and spur a political backlash just as Republicans gain full control of the government.'"
            ]
          },
          "metadata": {
            "tags": []
          },
          "execution_count": 50
        }
      ]
    },
    {
      "cell_type": "code",
      "metadata": {
        "execution": {
          "iopub.execute_input": "2020-09-10T03:05:18.478922Z",
          "iopub.status.busy": "2020-09-10T03:05:18.478205Z",
          "iopub.status.idle": "2020-09-10T03:05:18.481180Z",
          "shell.execute_reply": "2020-09-10T03:05:18.481601Z"
        },
        "papermill": {
          "duration": 0.026526,
          "end_time": "2020-09-10T03:05:18.481702",
          "exception": false,
          "start_time": "2020-09-10T03:05:18.455176",
          "status": "completed"
        },
        "tags": [],
        "id": "n1kDR-NjN7nd",
        "colab_type": "code",
        "colab": {
          "base_uri": "https://localhost:8080/",
          "height": 35
        },
        "outputId": "266033f9-7921-4fb4-fb20-de23c7be207b"
      },
      "source": [
        "decoded_T5_wikihow"
      ],
      "execution_count": 51,
      "outputs": [
        {
          "output_type": "execute_result",
          "data": {
            "application/vnd.google.colaboratory.intrinsic+json": {
              "type": "string"
            },
            "text/plain": [
              "'Defend the health care lawsuit against the Obama administration.Consider a temporary suspension'"
            ]
          },
          "metadata": {
            "tags": []
          },
          "execution_count": 51
        }
      ]
    },
    {
      "cell_type": "code",
      "metadata": {
        "execution": {
          "iopub.execute_input": "2020-09-10T03:05:18.524322Z",
          "iopub.status.busy": "2020-09-10T03:05:18.523490Z",
          "iopub.status.idle": "2020-09-10T03:05:18.527396Z",
          "shell.execute_reply": "2020-09-10T03:05:18.526879Z"
        },
        "papermill": {
          "duration": 0.026494,
          "end_time": "2020-09-10T03:05:18.527480",
          "exception": false,
          "start_time": "2020-09-10T03:05:18.500986",
          "status": "completed"
        },
        "tags": [],
        "id": "DfoGmsxIN7nf",
        "colab_type": "code",
        "colab": {
          "base_uri": "https://localhost:8080/",
          "height": 86
        },
        "outputId": "4c610ddb-803c-4950-e627-2899932a5859"
      },
      "source": [
        "decoded_GPT2"
      ],
      "execution_count": 52,
      "outputs": [
        {
          "output_type": "execute_result",
          "data": {
            "application/vnd.google.colaboratory.intrinsic+json": {
              "type": "string"
            },
            "text/plain": [
              "'summarize: WASHINGTON  —   Congressional Republicans have a new fear when it comes to their    health care lawsuit against the Obama administration: They might win. The incoming Trump administration could choose to no longer defend the executive branch against the suit, which challenges the administration’s authority to spend billions of dollars on health insurance subsidies for   and   Americans, handing House Republicans a big victory on    issues. But a sudden loss of the disputed subsidies could conceivably cause the health care program to implode, leaving millions of people without access to health insurance before Republicans have prepared a replacement. That could lead to chaos in the insurance market and spur a political backlash just as Republicans gain full control of the government.'"
            ]
          },
          "metadata": {
            "tags": []
          },
          "execution_count": 52
        }
      ]
    },
    {
      "cell_type": "code",
      "metadata": {
        "execution": {
          "iopub.execute_input": "2020-09-10T03:05:18.569749Z",
          "iopub.status.busy": "2020-09-10T03:05:18.569033Z",
          "iopub.status.idle": "2020-09-10T03:05:18.572547Z",
          "shell.execute_reply": "2020-09-10T03:05:18.572138Z"
        },
        "papermill": {
          "duration": 0.026003,
          "end_time": "2020-09-10T03:05:18.572629",
          "exception": false,
          "start_time": "2020-09-10T03:05:18.546626",
          "status": "completed"
        },
        "tags": [],
        "id": "srzXB1-BN7ng",
        "colab_type": "code",
        "colab": {
          "base_uri": "https://localhost:8080/",
          "height": 35
        },
        "outputId": "df5748d4-a02e-4af9-bcd4-1ab2ff948eb4"
      },
      "source": [
        "decoded_pegasus_newsroom"
      ],
      "execution_count": 53,
      "outputs": [
        {
          "output_type": "execute_result",
          "data": {
            "application/vnd.google.colaboratory.intrinsic+json": {
              "type": "string"
            },
            "text/plain": [
              "'Congressional Republicans have a new fear when it comes to their health care lawsuit against the Obama administration: They might win.'"
            ]
          },
          "metadata": {
            "tags": []
          },
          "execution_count": 53
        }
      ]
    },
    {
      "cell_type": "code",
      "metadata": {
        "execution": {
          "iopub.execute_input": "2020-09-10T03:05:18.615776Z",
          "iopub.status.busy": "2020-09-10T03:05:18.615056Z",
          "iopub.status.idle": "2020-09-10T03:05:18.618297Z",
          "shell.execute_reply": "2020-09-10T03:05:18.618681Z"
        },
        "papermill": {
          "duration": 0.026573,
          "end_time": "2020-09-10T03:05:18.618782",
          "exception": false,
          "start_time": "2020-09-10T03:05:18.592209",
          "status": "completed"
        },
        "tags": [],
        "id": "3SSo53MNN7ni",
        "colab_type": "code",
        "colab": {
          "base_uri": "https://localhost:8080/",
          "height": 52
        },
        "outputId": "e4cd60a7-ef13-483f-d2d7-01d8bbea59a0"
      },
      "source": [
        "decoded_pegasus_cnn"
      ],
      "execution_count": 54,
      "outputs": [
        {
          "output_type": "execute_result",
          "data": {
            "application/vnd.google.colaboratory.intrinsic+json": {
              "type": "string"
            },
            "text/plain": [
              "'The incoming Trump administration could choose to no longer defend the executive branch against the suit.<n>A sudden loss of the disputed subsidies could conceivably cause the health care program to implode.<n>Republicans could find themselves in the awkward position of appropriating huge sums to temporarily prop up the Obama health care law.'"
            ]
          },
          "metadata": {
            "tags": []
          },
          "execution_count": 54
        }
      ]
    },
    {
      "cell_type": "code",
      "metadata": {
        "id": "K29zoPxXSglM",
        "colab_type": "code",
        "colab": {
          "base_uri": "https://localhost:8080/",
          "height": 103
        },
        "outputId": "40d97ed4-fa3c-4470-acb9-f8f6b3c27c62"
      },
      "source": [
        "decoded_pegasus_multi"
      ],
      "execution_count": 55,
      "outputs": [
        {
          "output_type": "execute_result",
          "data": {
            "application/vnd.google.colaboratory.intrinsic+json": {
              "type": "string"
            },
            "text/plain": [
              "\"– A lawsuit brought by House Republicans against the Obama administration over ObamaCare could cost the government up to $13 billion, the New York Times reports. The lawsuit, which has been put on hold since Donald Trump's election victory, claims the Obama administration is violating the Constitution by making subsidies available to people who don't have health insurance. House Republicans say Congress never appropriated the money for the subsidies, which are paid to insurance companies to help defray costs for low- and middle-income people. The Obama administration says the subsidies are a permanent part of the Affordable Care Act, even though Congress never appropriated the money for them. If the subsidies are cut off, millions of low- and middle-income people could lose their insurance. The House Republicans' lawsuit has been seeking to stop the subsidies, and they have asked the Obama administration to stop paying them until the case is resolved. The Justice Department has refused to do so, and a federal appeals court has put the lawsuit on hold until at least February, when it is expected to rule on the legality of the subsidies. If the subsidies are cut off, House Republicans could find themselves in the awkward position of having to appropriation huge sums to keep ObamaCare alive, angering conservative voters who have been demanding an end to the law for\""
            ]
          },
          "metadata": {
            "tags": []
          },
          "execution_count": 55
        }
      ]
    },
    {
      "cell_type": "code",
      "metadata": {
        "id": "OsE3JXo_WeDi",
        "colab_type": "code",
        "colab": {
          "base_uri": "https://localhost:8080/",
          "height": 69
        },
        "outputId": "3dbda3ea-c759-405b-ef17-ed20171d7ae0"
      },
      "source": [
        "decoded_pegasus_billsum"
      ],
      "execution_count": 56,
      "outputs": [
        {
          "output_type": "execute_result",
          "data": {
            "application/vnd.google.colaboratory.intrinsic+json": {
              "type": "string"
            },
            "text/plain": [
              "'Congressional Republicans have a new fear when it comes to their health care lawsuit against the Obama administration: the incoming Trump administration could choose to no longer defend the executive branch against the challenges to which the Department of the Treasury has been put in until at least late by the United States Court of Appeals for the District of Columbia Circuit; and the transition team for the President will evaluate this case and all related aspects of the Affordable Care Act.'"
            ]
          },
          "metadata": {
            "tags": []
          },
          "execution_count": 56
        }
      ]
    },
    {
      "cell_type": "code",
      "metadata": {
        "id": "I86-8K9TgYaw",
        "colab_type": "code",
        "colab": {
          "base_uri": "https://localhost:8080/",
          "height": 69
        },
        "outputId": "218184c0-80da-4ac9-9c29-316cb0feccfc"
      },
      "source": [
        "decoded_pegasus_cnn_clean"
      ],
      "execution_count": 57,
      "outputs": [
        {
          "output_type": "execute_result",
          "data": {
            "application/vnd.google.colaboratory.intrinsic+json": {
              "type": "string"
            },
            "text/plain": [
              "'House Republicans sued the Obama administration over spending on health insurance subsidies.<n>A federal judge ruled in favor of House Republicans, but the case was put on hold until after the election.<n>Donald J. Trump’s administration could choose to fight House Republicans.<n>Republicans could find awkward position appropriating huge sums temporarily prop Obama health care law.<n>That could lead chaos insurance market spur political backlash Republicans gain full control government.'"
            ]
          },
          "metadata": {
            "tags": []
          },
          "execution_count": 57
        }
      ]
    },
    {
      "cell_type": "code",
      "metadata": {
        "id": "m4pa_Ir2gjJu",
        "colab_type": "code",
        "colab": {
          "base_uri": "https://localhost:8080/",
          "height": 52
        },
        "outputId": "491a1dff-f09c-424e-95b2-bbe695e28111"
      },
      "source": [
        "decoded_T5_clean"
      ],
      "execution_count": 58,
      "outputs": [
        {
          "output_type": "execute_result",
          "data": {
            "application/vnd.google.colaboratory.intrinsic+json": {
              "type": "string"
            },
            "text/plain": [
              "'sudden loss disputed subsidies could conceivably cause health care program implode. that could lead chaos insurance market spur political backlash Republicans gain full control government. to stave outcome, Republicans could find awkward position appropriating huge sums temporarily prop Obama health care law.'"
            ]
          },
          "metadata": {
            "tags": []
          },
          "execution_count": 58
        }
      ]
    },
    {
      "cell_type": "code",
      "metadata": {
        "id": "xMlL3ZafpFk1",
        "colab_type": "code",
        "colab": {
          "base_uri": "https://localhost:8080/",
          "height": 103
        },
        "outputId": "2580930a-7964-41a0-b4d0-0062e1c5a48a"
      },
      "source": [
        "src_text"
      ],
      "execution_count": 59,
      "outputs": [
        {
          "output_type": "execute_result",
          "data": {
            "application/vnd.google.colaboratory.intrinsic+json": {
              "type": "string"
            },
            "text/plain": [
              "'WASHINGTON  —   Congressional Republicans have a new fear when it comes to their    health care lawsuit against the Obama administration: They might win. The incoming Trump administration could choose to no longer defend the executive branch against the suit, which challenges the administration’s authority to spend billions of dollars on health insurance subsidies for   and   Americans, handing House Republicans a big victory on    issues. But a sudden loss of the disputed subsidies could conceivably cause the health care program to implode, leaving millions of people without access to health insurance before Republicans have prepared a replacement. That could lead to chaos in the insurance market and spur a political backlash just as Republicans gain full control of the government. To stave off that outcome, Republicans could find themselves in the awkward position of appropriating huge sums to temporarily prop up the Obama health care law, angering conservative voters who have been demanding an end to the law for years. In another twist, Donald J. Trump’s administration, worried about preserving executive branch prerogatives, could choose to fight its Republican allies in the House on some central questions in the dispute. Eager to avoid an ugly political pileup, Republicans on Capitol Hill and the Trump transition team are gaming out how to handle the lawsuit, which, after the election, has been put in limbo until at least late February by the United States Court of Appeals for the District of Columbia Circuit. They are not yet ready to divulge their strategy. “Given that this pending litigation involves the Obama administration and Congress, it would be inappropriate to comment,” said Phillip J. Blando, a spokesman for the Trump transition effort. “Upon taking office, the Trump administration will evaluate this case and all related aspects of the Affordable Care Act. ” In a potentially   decision in 2015, Judge Rosemary M. Collyer ruled that House Republicans had the standing to sue the executive branch over a spending dispute and that the Obama administration had been distributing the health insurance subsidies, in violation of the Constitution, without approval from Congress. The Justice Department, confident that Judge Collyer’s decision would be reversed, quickly appealed, and the subsidies have remained in place during the appeal. In successfully seeking a temporary halt in the proceedings after Mr. Trump won, House Republicans last month told the court that they “and the  ’s transition team currently are discussing potential options for resolution of this matter, to take effect after the  ’s inauguration on Jan. 20, 2017. ” The suspension of the case, House lawyers said, will “provide the   and his future administration time to consider whether to continue prosecuting or to otherwise resolve this appeal. ” Republican leadership officials in the House acknowledge the possibility of “cascading effects” if the   payments, which have totaled an estimated $13 billion, are suddenly stopped. Insurers that receive the subsidies in exchange for paying    costs such as deductibles and   for eligible consumers could race to drop coverage since they would be losing money. Over all, the loss of the subsidies could destabilize the entire program and cause a lack of confidence that leads other insurers to seek a quick exit as well. Anticipating that the Trump administration might not be inclined to mount a vigorous fight against the House Republicans given the  ’s dim view of the health care law, a team of lawyers this month sought to intervene in the case on behalf of two participants in the health care program. In their request, the lawyers predicted that a deal between House Republicans and the new administration to dismiss or settle the case “will produce devastating consequences for the individuals who receive these reductions, as well as for the nation’s health insurance and health care systems generally. ” No matter what happens, House Republicans say, they want to prevail on two overarching concepts: the congressional power of the purse, and the right of Congress to sue the executive branch if it violates the Constitution regarding that spending power. House Republicans contend that Congress never appropriated the money for the subsidies, as required by the Constitution. In the suit, which was initially championed by John A. Boehner, the House speaker at the time, and later in House committee reports, Republicans asserted that the administration, desperate for the funding, had required the Treasury Department to provide it despite widespread internal skepticism that the spending was proper. The White House said that the spending was a permanent part of the law passed in 2010, and that no annual appropriation was required  —   even though the administration initially sought one. Just as important to House Republicans, Judge Collyer found that Congress had the standing to sue the White House on this issue  —   a ruling that many legal experts said was flawed  —   and they want that precedent to be set to restore congressional leverage over the executive branch. But on spending power and standing, the Trump administration may come under pressure from advocates of presidential authority to fight the House no matter their shared views on health care, since those precedents could have broad repercussions. It is a complicated set of dynamics illustrating how a quick legal victory for the House in the Trump era might come with costs that Republicans never anticipated when they took on the Obama White House.'"
            ]
          },
          "metadata": {
            "tags": []
          },
          "execution_count": 59
        }
      ]
    },
    {
      "cell_type": "markdown",
      "metadata": {
        "id": "5Y9T3YG7geYD",
        "colab_type": "text"
      },
      "source": [
        "### Charts"
      ]
    },
    {
      "cell_type": "code",
      "metadata": {
        "execution": {
          "iopub.execute_input": "2020-09-10T03:05:18.665886Z",
          "iopub.status.busy": "2020-09-10T03:05:18.665253Z",
          "iopub.status.idle": "2020-09-10T03:05:18.877481Z",
          "shell.execute_reply": "2020-09-10T03:05:18.877035Z"
        },
        "papermill": {
          "duration": 0.239171,
          "end_time": "2020-09-10T03:05:18.877579",
          "exception": false,
          "start_time": "2020-09-10T03:05:18.638408",
          "status": "completed"
        },
        "tags": [],
        "id": "7pZZxG8nN7nj",
        "colab_type": "code",
        "colab": {
          "base_uri": "https://localhost:8080/",
          "height": 0
        },
        "outputId": "742c385e-7ed3-4f59-a553-d47beedf88c5"
      },
      "source": [
        "import matplotlib.pyplot as plot\n",
        "time_array = {\n",
        "    'Model': [\"BERT\", \"T5\", \"DistilBERT\", \"GPT\", \"GPT2\", \"T5 wikihow\", \"Pegasus News Room\", \"Pegasus CNN DailyMail\", \"Pegasus Billsum\", \"Pegasus CNN Clean\", \"T5 Clean\"], \n",
        "    'Times': [BERT_time, t5_time, DistilBERT_time, GPT_time, GPT2_time, t5_wikihow_time, pegasus_newsroom_time, pegasus_cnn_time, pegasus_billsum_time, pegasus_cnn_time_clean, t5_time_clean]\n",
        "    }\n",
        "df_time = pd.DataFrame(data=time_array)\n",
        "df_time.sort_values('Times').plot.bar(x=\"Model\", y=\"Times\", title=\"Time to Summarize for each model\")\n",
        "plot.show()"
      ],
      "execution_count": 60,
      "outputs": [
        {
          "output_type": "display_data",
          "data": {
            "image/png": "[encoded data removed]",
            "text/plain": [
              "<Figure size 432x288 with 1 Axes>"
            ]
          },
          "metadata": {
            "tags": [],
            "needs_background": "light"
          }
        }
      ]
    },
    {
      "cell_type": "code",
      "metadata": {
        "execution": {
          "iopub.execute_input": "2020-09-10T03:05:18.937975Z",
          "iopub.status.busy": "2020-09-10T03:05:18.936886Z",
          "iopub.status.idle": "2020-09-10T03:05:19.061035Z",
          "shell.execute_reply": "2020-09-10T03:05:19.061460Z"
        },
        "papermill": {
          "duration": 0.163324,
          "end_time": "2020-09-10T03:05:19.061577",
          "exception": false,
          "start_time": "2020-09-10T03:05:18.898253",
          "status": "completed"
        },
        "tags": [],
        "id": "Ue7Iy0TLN7nl",
        "colab_type": "code",
        "colab": {
          "base_uri": "https://localhost:8080/",
          "height": 0
        },
        "outputId": "f33dcd35-d5ba-47b6-c13c-1e89459a8683"
      },
      "source": [
        "length_dict = {\n",
        "    \"Model\": [\"Normal\", \"BERT\", \"T5\", \"DistilBERT\", \"GPT\", \"GPT2\", \"T5 Wikihow\", \"Pegasus News Room\", \"Pegasus CNN DailyMail\", \"Pegasus Multi News\", \"Pegasus Billsum\", \"Pegasus CNN Clean\", \"T5 Clean\"], \n",
        "    \"Length\": [\n",
        "               (len(df.iloc[0]['content'])),\n",
        "               (len(decoded_BERT)), (len(decoded_T5)),\n",
        "               (len(decoded_DistilBERT)),\n",
        "               (len(decoded_GPT)),\n",
        "               (len(decoded_GPT2)),\n",
        "               (len(decoded_T5_wikihow)),\n",
        "               (len(decoded_pegasus_newsroom)),\n",
        "               (len(decoded_pegasus_cnn)),\n",
        "               (len(decoded_pegasus_multi)),\n",
        "               (len(decoded_pegasus_billsum)),\n",
        "               (len(decoded_pegasus_cnn_clean)),\n",
        "               (len(decoded_T5_clean)),\n",
        "               ]\n",
        "  }\n",
        "df_length = pd.DataFrame(data=length_dict)\n",
        "df_length.sort_values('Length').plot.bar(x=\"Model\", y=\"Length\", title=\"Length of Model Summary\")\n",
        "plot.show()"
      ],
      "execution_count": 61,
      "outputs": [
        {
          "output_type": "display_data",
          "data": {
            "image/png": "[encoded data removed]",
            "text/plain": [
              "<Figure size 432x288 with 1 Axes>"
            ]
          },
          "metadata": {
            "tags": [],
            "needs_background": "light"
          }
        }
      ]
    },
    {
      "cell_type": "markdown",
      "metadata": {
        "id": "EhaOGFhHgnJ9",
        "colab_type": "text"
      },
      "source": [
        "### ROGUE Metrics"
      ]
    },
    {
      "cell_type": "code",
      "metadata": {
        "id": "H-pYDqrD4jeX",
        "colab_type": "code",
        "colab": {}
      },
      "source": [
        "def print_score_results(dictionary):\n",
        "  print(\"ROGUE-1\")\n",
        "  for ch in dictionary['rouge-1']:\n",
        "    print(f\"   {ch}: {dictionary['rouge-1'][ch]}\")\n",
        "  print(\"ROUGE-2\")\n",
        "  for ch in dictionary['rouge-2']:\n",
        "    print(f\"   {ch}: {dictionary['rouge-2'][ch]}\")\n",
        "  print(\"ROUGE-L\")\n",
        "  for ch in dictionary['rouge-l']:\n",
        "    print(f\"   {ch}: {dictionary['rouge-l'][ch]}\")"
      ],
      "execution_count": 62,
      "outputs": []
    },
    {
      "cell_type": "code",
      "metadata": {
        "id": "av6Jrq7Hgt8x",
        "colab_type": "code",
        "colab": {
          "base_uri": "https://localhost:8080/",
          "height": 0
        },
        "outputId": "08db03fd-5f97-4da5-ece0-4fd8977675f9"
      },
      "source": [
        "human_summarized = \"WASHINGTON — Congressional Republicans have a new fear when it comes to their health care lawsuit against the Obama administration: They might win. The incoming Trump administration could choose to no longer defend the executive branch against the suit, which challenges the administration’s authority to spend billions of dollars on health insurance subsidies for and Americans, handing House Republicans a big victory on issues. To stave off that outcome, Republicans could find themselves in the awkward position of appropriating huge sums to temporarily prop up the Obama health care law, angeg conservative voters who have been demanding an end to the law for years. But a sudden loss of the disputed subsidies could conceivably cause the health care program to implode, leaving millions of people without access to health insurance before Republicans have prepared a replacemen It is a complicated set of dynamics illustrating how a quick legal victory for the House in the Trump era might come with costs that Republicans never anticipated when they took on the Obama White House. Just as important to House Republicans, Judge Collyer found that Congress had the standing to sue the White House on this issue — a ruling that many legal experts said was flawed — and they want that precedent to be set to restore congressional leverage over the executive branch. But on spending power and standing, the Trump administration may come under pressure from advocates of presidential authority to fight the House no matter their shared views on health care, since those precedents could have broad repercussions. Anticipating that the Trump administration might not be inclined to mount a vigorous fight against the House Republicans given the ’s dim view of the health care law, a team of lawyers this month sought to intervene in the case on behalf of two participants in the health care program. In another twist, Donald J. Trump’s administration, worried about preserving executive branch prerogatives, could choose to fight its Republican allies in the House on some central questions in the dispute. “Upon taking office, the Trump administration will evaluate this case and all related aspects of the Affordable Care Act. Eager to avoid an ugly political pileup, Republicans on Capitol Hill and the Trump transition team are gaming out how to handle the lawsuit, which, after the election, has been put in limbo until at least late February by the United States Court of Appeals for the District of Columbia Circuit. “Given that this pending litigation involves the Obama administration and Congress, it would be inappropriate to comment,” said Phillip J. Blando, a spokesman for the Trump transition effort. House Republicans contend that Congress never appropriated the money for the subsidies, as required by the Constitution. The White House said that the spending was a permanent part of the law passed in 2010, and that no annual appropriation was required — even though the administration initially sought one. ” No matter what happens, House Republicans say, they want to prevail on two overarching concepts: the congressional power of the purse, and the right of Congress to sue the executive branch if it violates the Constitution regarding that spending power.\"\"\"\n",
        "print(human_summarized)"
      ],
      "execution_count": 63,
      "outputs": [
        {
          "output_type": "stream",
          "text": [
            "WASHINGTON — Congressional Republicans have a new fear when it comes to their health care lawsuit against the Obama administration: They might win. The incoming Trump administration could choose to no longer defend the executive branch against the suit, which challenges the administration’s authority to spend billions of dollars on health insurance subsidies for and Americans, handing House Republicans a big victory on issues. To stave off that outcome, Republicans could find themselves in the awkward position of appropriating huge sums to temporarily prop up the Obama health care law, angeg conservative voters who have been demanding an end to the law for years. But a sudden loss of the disputed subsidies could conceivably cause the health care program to implode, leaving millions of people without access to health insurance before Republicans have prepared a replacemen It is a complicated set of dynamics illustrating how a quick legal victory for the House in the Trump era might come with costs that Republicans never anticipated when they took on the Obama White House. Just as important to House Republicans, Judge Collyer found that Congress had the standing to sue the White House on this issue — a ruling that many legal experts said was flawed — and they want that precedent to be set to restore congressional leverage over the executive branch. But on spending power and standing, the Trump administration may come under pressure from advocates of presidential authority to fight the House no matter their shared views on health care, since those precedents could have broad repercussions. Anticipating that the Trump administration might not be inclined to mount a vigorous fight against the House Republicans given the ’s dim view of the health care law, a team of lawyers this month sought to intervene in the case on behalf of two participants in the health care program. In another twist, Donald J. Trump’s administration, worried about preserving executive branch prerogatives, could choose to fight its Republican allies in the House on some central questions in the dispute. “Upon taking office, the Trump administration will evaluate this case and all related aspects of the Affordable Care Act. Eager to avoid an ugly political pileup, Republicans on Capitol Hill and the Trump transition team are gaming out how to handle the lawsuit, which, after the election, has been put in limbo until at least late February by the United States Court of Appeals for the District of Columbia Circuit. “Given that this pending litigation involves the Obama administration and Congress, it would be inappropriate to comment,” said Phillip J. Blando, a spokesman for the Trump transition effort. House Republicans contend that Congress never appropriated the money for the subsidies, as required by the Constitution. The White House said that the spending was a permanent part of the law passed in 2010, and that no annual appropriation was required — even though the administration initially sought one. ” No matter what happens, House Republicans say, they want to prevail on two overarching concepts: the congressional power of the purse, and the right of Congress to sue the executive branch if it violates the Constitution regarding that spending power.\n"
          ],
          "name": "stdout"
        }
      ]
    },
    {
      "cell_type": "code",
      "metadata": {
        "id": "B5pfSTInsVFl",
        "colab_type": "code",
        "colab": {
          "base_uri": "https://localhost:8080/",
          "height": 0
        },
        "outputId": "6eaf8a57-5970-425f-fadc-5027845604de"
      },
      "source": [
        "!pip install -U rouge"
      ],
      "execution_count": 64,
      "outputs": [
        {
          "output_type": "stream",
          "text": [
            "Requirement already up-to-date: rouge in /usr/local/lib/python3.6/dist-packages (1.0.0)\n",
            "Requirement already satisfied, skipping upgrade: six in /usr/local/lib/python3.6/dist-packages (from rouge) (1.15.0)\n"
          ],
          "name": "stdout"
        }
      ]
    },
    {
      "cell_type": "code",
      "metadata": {
        "id": "WTiSE2dXuNlH",
        "colab_type": "code",
        "colab": {}
      },
      "source": [
        "from rouge import Rouge \n",
        "rouge = Rouge()"
      ],
      "execution_count": 65,
      "outputs": []
    },
    {
      "cell_type": "code",
      "metadata": {
        "id": "0FHiGHM4vO5E",
        "colab_type": "code",
        "colab": {
          "base_uri": "https://localhost:8080/",
          "height": 0
        },
        "outputId": "93a73393-6c26-4591-f7b3-3b364bbbc87e"
      },
      "source": [
        "scores_t5 = rouge.get_scores(decoded_T5, human_summarized)\n",
        "print_score_results(scores_t5[0])"
      ],
      "execution_count": 66,
      "outputs": [
        {
          "output_type": "stream",
          "text": [
            "ROGUE-1\n",
            "   f: 0.1480206523306899\n",
            "   p: 0.7818181818181819\n",
            "   r: 0.0817490494296578\n",
            "ROUGE-2\n",
            "   f: 0.10017270988035476\n",
            "   p: 0.5370370370370371\n",
            "   r: 0.05523809523809524\n",
            "ROUGE-L\n",
            "   f: 0.1857585116238055\n",
            "   p: 0.6976744186046512\n",
            "   r: 0.10714285714285714\n"
          ],
          "name": "stdout"
        }
      ]
    },
    {
      "cell_type": "code",
      "metadata": {
        "id": "_u6TImBi1iNw",
        "colab_type": "code",
        "colab": {
          "base_uri": "https://localhost:8080/",
          "height": 0
        },
        "outputId": "585eab01-0d00-456a-f45a-079c3fa13abe"
      },
      "source": [
        "scores_BERT = rouge.get_scores(decoded_BERT, human_summarized)\n",
        "print_score_results(scores_BERT[0])"
      ],
      "execution_count": 67,
      "outputs": [
        {
          "output_type": "stream",
          "text": [
            "ROGUE-1\n",
            "   f: 0.25189681013178106\n",
            "   p: 0.6240601503759399\n",
            "   r: 0.15779467680608364\n",
            "ROUGE-2\n",
            "   f: 0.2283104990721628\n",
            "   p: 0.5681818181818182\n",
            "   r: 0.14285714285714285\n",
            "ROUGE-L\n",
            "   f: 0.33714285394285715\n",
            "   p: 0.8428571428571429\n",
            "   r: 0.21071428571428572\n"
          ],
          "name": "stdout"
        }
      ]
    },
    {
      "cell_type": "code",
      "metadata": {
        "id": "6hgnGspI4Gup",
        "colab_type": "code",
        "colab": {
          "base_uri": "https://localhost:8080/",
          "height": 0
        },
        "outputId": "47f9e8a4-e512-4485-cad3-6a0e50b3015b"
      },
      "source": [
        "scores_GPT2 = rouge.get_scores(decoded_GPT2, human_summarized)\n",
        "print_score_results(scores_GPT2[0])"
      ],
      "execution_count": 68,
      "outputs": [
        {
          "output_type": "stream",
          "text": [
            "ROGUE-1\n",
            "   f: 0.32817337158795734\n",
            "   p: 0.8833333333333333\n",
            "   r: 0.20152091254752852\n",
            "ROUGE-2\n",
            "   f: 0.2950310528878612\n",
            "   p: 0.7983193277310925\n",
            "   r: 0.18095238095238095\n",
            "ROUGE-L\n",
            "   f: 0.389041092317508\n",
            "   p: 0.8352941176470589\n",
            "   r: 0.25357142857142856\n"
          ],
          "name": "stdout"
        }
      ]
    },
    {
      "cell_type": "code",
      "metadata": {
        "id": "m7p6L7-S4SYE",
        "colab_type": "code",
        "colab": {
          "base_uri": "https://localhost:8080/",
          "height": 0
        },
        "outputId": "5c1234f9-e23b-4e46-b7ab-047039a500c9"
      },
      "source": [
        "scores_pegasus_cnn = rouge.get_scores(decoded_pegasus_cnn, human_summarized)\n",
        "print_score_results(scores_pegasus_cnn[0])"
      ],
      "execution_count": 69,
      "outputs": [
        {
          "output_type": "stream",
          "text": [
            "ROGUE-1\n",
            "   f: 0.16925733857863454\n",
            "   p: 0.9245283018867925\n",
            "   r: 0.09315589353612168\n",
            "ROUGE-2\n",
            "   f: 0.1559792011329743\n",
            "   p: 0.8653846153846154\n",
            "   r: 0.08571428571428572\n",
            "ROUGE-L\n",
            "   f: 0.2305295927873371\n",
            "   p: 0.9024390243902439\n",
            "   r: 0.13214285714285715\n"
          ],
          "name": "stdout"
        }
      ]
    },
    {
      "cell_type": "code",
      "metadata": {
        "id": "Lc2-t3sI4e0Z",
        "colab_type": "code",
        "colab": {
          "base_uri": "https://localhost:8080/",
          "height": 0
        },
        "outputId": "f6821580-64ba-4a27-e47f-b90ddec67f48"
      },
      "source": [
        "scores_pegasus_cnn_clean = rouge.get_scores(decoded_pegasus_cnn_clean, human_summarized)\n",
        "print_score_results(scores_pegasus_cnn_clean[0])"
      ],
      "execution_count": 70,
      "outputs": [
        {
          "output_type": "stream",
          "text": [
            "ROGUE-1\n",
            "   f: 0.1644295281282375\n",
            "   p: 0.7\n",
            "   r: 0.09315589353612168\n",
            "ROUGE-2\n",
            "   f: 0.07407407202071223\n",
            "   p: 0.3188405797101449\n",
            "   r: 0.0419047619047619\n",
            "ROUGE-L\n",
            "   f: 0.20771513072053116\n",
            "   p: 0.6140350877192983\n",
            "   r: 0.125\n"
          ],
          "name": "stdout"
        }
      ]
    },
    {
      "cell_type": "code",
      "metadata": {
        "id": "UlRwkEoR7PQw",
        "colab_type": "code",
        "colab": {
          "base_uri": "https://localhost:8080/",
          "height": 0
        },
        "outputId": "b1d8318b-1e31-4317-b3b3-52ecf58c1d1a"
      },
      "source": [
        "scores_t5_clean = rouge.get_scores(decoded_T5_clean, human_summarized)\n",
        "print_score_results(scores_t5_clean[0])"
      ],
      "execution_count": 71,
      "outputs": [
        {
          "output_type": "stream",
          "text": [
            "ROGUE-1\n",
            "   f: 0.11267605496850824\n",
            "   p: 0.7619047619047619\n",
            "   r: 0.060836501901140684\n",
            "ROUGE-2\n",
            "   f: 0.05653710112968076\n",
            "   p: 0.3902439024390244\n",
            "   r: 0.030476190476190476\n",
            "ROUGE-L\n",
            "   f: 0.17034700109265694\n",
            "   p: 0.7297297297297297\n",
            "   r: 0.09642857142857143\n"
          ],
          "name": "stdout"
        }
      ]
    },
    {
      "cell_type": "code",
      "metadata": {
        "id": "QbI1ChK47dXJ",
        "colab_type": "code",
        "colab": {}
      },
      "source": [
        ""
      ],
      "execution_count": 71,
      "outputs": []
    }
  ]
}