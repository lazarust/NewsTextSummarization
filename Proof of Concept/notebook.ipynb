{
  "nbformat": 4,
  "nbformat_minor": 0,
  "metadata": {
    "kernelspec": {
      "display_name": "Python 3",
      "language": "python",
      "name": "python3"
    },
    "language_info": {
      "codemirror_mode": {
        "name": "ipython",
        "version": 3
      },
      "file_extension": ".py",
      "mimetype": "text/x-python",
      "name": "python",
      "nbconvert_exporter": "python",
      "pygments_lexer": "ipython3",
      "version": "3.7.6"
    },
    "papermill": {
      "duration": 1109.129638,
      "end_time": "2020-09-10T03:05:20.295565",
      "environment_variables": {},
      "exception": null,
      "input_path": "__notebook__.ipynb",
      "output_path": "__notebook__.ipynb",
      "parameters": {},
      "start_time": "2020-09-10T02:46:51.165927",
      "version": "2.1.0"
    },
    "colab": {
      "name": "notebook.ipynb",
      "provenance": []
    }
  },
  "cells": [
    {
      "cell_type": "markdown",
      "metadata": {
        "papermill": {
          "duration": 0.009073,
          "end_time": "2020-09-10T02:46:54.755113",
          "exception": false,
          "start_time": "2020-09-10T02:46:54.746040",
          "status": "completed"
        },
        "tags": [],
        "id": "NWdEM36nN7mf",
        "colab_type": "text"
      },
      "source": [
        "# Summarization Comparison"
      ]
    },
    {
      "cell_type": "markdown",
      "metadata": {
        "id": "JQXjbR7Qg6EI",
        "colab_type": "text"
      },
      "source": [
        "### Imports"
      ]
    },
    {
      "cell_type": "code",
      "metadata": {
        "execution": {
          "iopub.execute_input": "2020-09-10T02:46:54.776688Z",
          "iopub.status.busy": "2020-09-10T02:46:54.775871Z",
          "iopub.status.idle": "2020-09-10T02:47:07.233689Z",
          "shell.execute_reply": "2020-09-10T02:47:07.232772Z"
        },
        "papermill": {
          "duration": 12.469558,
          "end_time": "2020-09-10T02:47:07.233805",
          "exception": false,
          "start_time": "2020-09-10T02:46:54.764247",
          "status": "completed"
        },
        "tags": [],
        "id": "pxSTtg9XN7mg",
        "colab_type": "code",
        "colab": {}
      },
      "source": [
        "import transformers\n",
        "if (transformers.__version__ != '3.1.0'):\n",
        "  !pip install -U transformers kaggle"
      ],
      "execution_count": 1,
      "outputs": []
    },
    {
      "cell_type": "code",
      "metadata": {
        "execution": {
          "iopub.execute_input": "2020-09-10T02:47:07.263392Z",
          "iopub.status.busy": "2020-09-10T02:47:07.259692Z",
          "iopub.status.idle": "2020-09-10T02:47:16.010150Z",
          "shell.execute_reply": "2020-09-10T02:47:16.009081Z"
        },
        "papermill": {
          "duration": 8.765494,
          "end_time": "2020-09-10T02:47:16.010279",
          "exception": false,
          "start_time": "2020-09-10T02:47:07.244785",
          "status": "completed"
        },
        "tags": [],
        "id": "ixalBllbN7mj",
        "colab_type": "code",
        "colab": {}
      },
      "source": [
        "import numpy as np\n",
        "\n",
        "from transformers import AutoModelForSeq2SeqLM, AutoTokenizer, AutoModelWithLMHead\n",
        "import torch\n",
        "import pandas as pd\n",
        "import time\n",
        "import gc"
      ],
      "execution_count": 2,
      "outputs": []
    },
    {
      "cell_type": "code",
      "metadata": {
        "execution": {
          "iopub.execute_input": "2020-09-10T02:47:16.072652Z",
          "iopub.status.busy": "2020-09-10T02:47:16.071087Z",
          "iopub.status.idle": "2020-09-10T02:47:16.073346Z",
          "shell.execute_reply": "2020-09-10T02:47:16.073742Z"
        },
        "papermill": {
          "duration": 0.016173,
          "end_time": "2020-09-10T02:47:16.073857",
          "exception": false,
          "start_time": "2020-09-10T02:47:16.057684",
          "status": "completed"
        },
        "tags": [],
        "id": "Qhv4i2PwN7mo",
        "colab_type": "code",
        "colab": {}
      },
      "source": [
        "#from transformers import pipeline; print(pipeline('sentiment-analysis')('I hate you'))"
      ],
      "execution_count": 3,
      "outputs": []
    },
    {
      "cell_type": "markdown",
      "metadata": {
        "papermill": {
          "duration": 0.010074,
          "end_time": "2020-09-10T02:47:16.094167",
          "exception": false,
          "start_time": "2020-09-10T02:47:16.084093",
          "status": "completed"
        },
        "tags": [],
        "id": "7Oq9oeGBN7mq",
        "colab_type": "text"
      },
      "source": [
        "### Read in Data\n",
        "Reads in the 3 csv files, drops unneeded columns, then concatenates them together. "
      ]
    },
    {
      "cell_type": "code",
      "metadata": {
        "id": "xiPqqkAfPW-O",
        "colab_type": "code",
        "colab": {}
      },
      "source": [
        "# from google.colab import files\n",
        "\n",
        "# Uncomment this line to upload data file\n",
        "# uploaded = files.upload()"
      ],
      "execution_count": 4,
      "outputs": []
    },
    {
      "cell_type": "code",
      "metadata": {
        "_cell_guid": "79c7e3d0-c299-4dcb-8224-4455121ee9b0",
        "_uuid": "d629ff2d2480ee46fbb7e2d37f6b5fab8052498a",
        "execution": {
          "iopub.execute_input": "2020-09-10T02:47:16.127257Z",
          "iopub.status.busy": "2020-09-10T02:47:16.126720Z",
          "iopub.status.idle": "2020-09-10T02:47:22.493418Z",
          "shell.execute_reply": "2020-09-10T02:47:22.492326Z"
        },
        "papermill": {
          "duration": 6.388999,
          "end_time": "2020-09-10T02:47:22.493537",
          "exception": false,
          "start_time": "2020-09-10T02:47:16.104538",
          "status": "completed"
        },
        "tags": [],
        "id": "ODQ_mmWXN7mr",
        "colab_type": "code",
        "colab": {}
      },
      "source": [
        "df = pd.read_csv('data.csv')"
      ],
      "execution_count": 5,
      "outputs": []
    },
    {
      "cell_type": "code",
      "metadata": {
        "execution": {
          "iopub.execute_input": "2020-09-10T02:47:22.524757Z",
          "iopub.status.busy": "2020-09-10T02:47:22.524227Z",
          "iopub.status.idle": "2020-09-10T02:47:22.534568Z",
          "shell.execute_reply": "2020-09-10T02:47:22.533674Z"
        },
        "papermill": {
          "duration": 0.030281,
          "end_time": "2020-09-10T02:47:22.534660",
          "exception": false,
          "start_time": "2020-09-10T02:47:22.504379",
          "status": "completed"
        },
        "tags": [],
        "id": "c1NgwA5sN7mt",
        "colab_type": "code",
        "colab": {
          "base_uri": "https://localhost:8080/",
          "height": 0
        },
        "outputId": "3fd2b8f1-a95c-4eb9-8d31-5e9ac3c929de"
      },
      "source": [
        "df.head()"
      ],
      "execution_count": 6,
      "outputs": [
        {
          "output_type": "execute_result",
          "data": {
            "text/html": [
              "<div>\n",
              "<style scoped>\n",
              "    .dataframe tbody tr th:only-of-type {\n",
              "        vertical-align: middle;\n",
              "    }\n",
              "\n",
              "    .dataframe tbody tr th {\n",
              "        vertical-align: top;\n",
              "    }\n",
              "\n",
              "    .dataframe thead th {\n",
              "        text-align: right;\n",
              "    }\n",
              "</style>\n",
              "<table border=\"1\" class=\"dataframe\">\n",
              "  <thead>\n",
              "    <tr style=\"text-align: right;\">\n",
              "      <th></th>\n",
              "      <th>Unnamed: 0</th>\n",
              "      <th>id</th>\n",
              "      <th>title</th>\n",
              "      <th>publication</th>\n",
              "      <th>author</th>\n",
              "      <th>date</th>\n",
              "      <th>year</th>\n",
              "      <th>month</th>\n",
              "      <th>url</th>\n",
              "      <th>content</th>\n",
              "    </tr>\n",
              "  </thead>\n",
              "  <tbody>\n",
              "    <tr>\n",
              "      <th>0</th>\n",
              "      <td>0</td>\n",
              "      <td>17283</td>\n",
              "      <td>House Republicans Fret About Winning Their Hea...</td>\n",
              "      <td>New York Times</td>\n",
              "      <td>Carl Hulse</td>\n",
              "      <td>2016-12-31</td>\n",
              "      <td>2016.0</td>\n",
              "      <td>12.0</td>\n",
              "      <td>NaN</td>\n",
              "      <td>WASHINGTON  —   Congressional Republicans have...</td>\n",
              "    </tr>\n",
              "    <tr>\n",
              "      <th>1</th>\n",
              "      <td>1</td>\n",
              "      <td>17284</td>\n",
              "      <td>Rift Between Officers and Residents as Killing...</td>\n",
              "      <td>New York Times</td>\n",
              "      <td>Benjamin Mueller and Al Baker</td>\n",
              "      <td>2017-06-19</td>\n",
              "      <td>2017.0</td>\n",
              "      <td>6.0</td>\n",
              "      <td>NaN</td>\n",
              "      <td>After the bullet shells get counted, the blood...</td>\n",
              "    </tr>\n",
              "    <tr>\n",
              "      <th>2</th>\n",
              "      <td>2</td>\n",
              "      <td>17285</td>\n",
              "      <td>Tyrus Wong, ‘Bambi’ Artist Thwarted by Racial ...</td>\n",
              "      <td>New York Times</td>\n",
              "      <td>Margalit Fox</td>\n",
              "      <td>2017-01-06</td>\n",
              "      <td>2017.0</td>\n",
              "      <td>1.0</td>\n",
              "      <td>NaN</td>\n",
              "      <td>When Walt Disney’s “Bambi” opened in 1942, cri...</td>\n",
              "    </tr>\n",
              "    <tr>\n",
              "      <th>3</th>\n",
              "      <td>3</td>\n",
              "      <td>17286</td>\n",
              "      <td>Among Deaths in 2016, a Heavy Toll in Pop Musi...</td>\n",
              "      <td>New York Times</td>\n",
              "      <td>William McDonald</td>\n",
              "      <td>2017-04-10</td>\n",
              "      <td>2017.0</td>\n",
              "      <td>4.0</td>\n",
              "      <td>NaN</td>\n",
              "      <td>Death may be the great equalizer, but it isn’t...</td>\n",
              "    </tr>\n",
              "    <tr>\n",
              "      <th>4</th>\n",
              "      <td>4</td>\n",
              "      <td>17287</td>\n",
              "      <td>Kim Jong-un Says North Korea Is Preparing to T...</td>\n",
              "      <td>New York Times</td>\n",
              "      <td>Choe Sang-Hun</td>\n",
              "      <td>2017-01-02</td>\n",
              "      <td>2017.0</td>\n",
              "      <td>1.0</td>\n",
              "      <td>NaN</td>\n",
              "      <td>SEOUL, South Korea  —   North Korea’s leader, ...</td>\n",
              "    </tr>\n",
              "  </tbody>\n",
              "</table>\n",
              "</div>"
            ],
            "text/plain": [
              "   Unnamed: 0     id  ... url                                            content\n",
              "0           0  17283  ... NaN  WASHINGTON  —   Congressional Republicans have...\n",
              "1           1  17284  ... NaN  After the bullet shells get counted, the blood...\n",
              "2           2  17285  ... NaN  When Walt Disney’s “Bambi” opened in 1942, cri...\n",
              "3           3  17286  ... NaN  Death may be the great equalizer, but it isn’t...\n",
              "4           4  17287  ... NaN  SEOUL, South Korea  —   North Korea’s leader, ...\n",
              "\n",
              "[5 rows x 10 columns]"
            ]
          },
          "metadata": {
            "tags": []
          },
          "execution_count": 6
        }
      ]
    },
    {
      "cell_type": "code",
      "metadata": {
        "execution": {
          "iopub.execute_input": "2020-09-10T02:47:22.565653Z",
          "iopub.status.busy": "2020-09-10T02:47:22.565145Z",
          "iopub.status.idle": "2020-09-10T02:47:22.571131Z",
          "shell.execute_reply": "2020-09-10T02:47:22.570647Z"
        },
        "papermill": {
          "duration": 0.025784,
          "end_time": "2020-09-10T02:47:22.571221",
          "exception": false,
          "start_time": "2020-09-10T02:47:22.545437",
          "status": "completed"
        },
        "tags": [],
        "id": "Wjb7QOc6N7mv",
        "colab_type": "code",
        "colab": {
          "base_uri": "https://localhost:8080/",
          "height": 0
        },
        "outputId": "28cc1078-bda8-469a-ce5f-29f6760bf76d"
      },
      "source": [
        "df.describe"
      ],
      "execution_count": 7,
      "outputs": [
        {
          "output_type": "execute_result",
          "data": {
            "text/plain": [
              "<bound method NDFrame.describe of        Unnamed: 0  ...                                            content\n",
              "0               0  ...  WASHINGTON  —   Congressional Republicans have...\n",
              "1               1  ...  After the bullet shells get counted, the blood...\n",
              "2               2  ...  When Walt Disney’s “Bambi” opened in 1942, cri...\n",
              "3               3  ...  Death may be the great equalizer, but it isn’t...\n",
              "4               4  ...  SEOUL, South Korea  —   North Korea’s leader, ...\n",
              "...           ...  ...                                                ...\n",
              "49995       53287  ...  As chairman and CEO of ExxonMobil, Rex Tillers...\n",
              "49996       53288  ...  I’ve spent nearly 20 years looking at intellig...\n",
              "49997       53289  ...    Donald Trump will not be taking necessary st...\n",
              "49998       53290  ...  Dozens of   colleges could be forced to close ...\n",
              "49999       53291  ...  The force of gravity can be described using a ...\n",
              "\n",
              "[50000 rows x 10 columns]>"
            ]
          },
          "metadata": {
            "tags": []
          },
          "execution_count": 7
        }
      ]
    },
    {
      "cell_type": "markdown",
      "metadata": {
        "papermill": {
          "duration": 0.011159,
          "end_time": "2020-09-10T02:47:22.593814",
          "exception": false,
          "start_time": "2020-09-10T02:47:22.582655",
          "status": "completed"
        },
        "tags": [],
        "id": "gG4vwTrkN7my",
        "colab_type": "text"
      },
      "source": [
        "## Summarizing Using Different Models\n",
        "\n",
        "Used different models through huggingface's transformers"
      ]
    },
    {
      "cell_type": "markdown",
      "metadata": {
        "papermill": {
          "duration": 0.011059,
          "end_time": "2020-09-10T02:47:22.616049",
          "exception": false,
          "start_time": "2020-09-10T02:47:22.604990",
          "status": "completed"
        },
        "tags": [],
        "id": "rLl8W8mTN7my",
        "colab_type": "text"
      },
      "source": [
        "### T5"
      ]
    },
    {
      "cell_type": "code",
      "metadata": {
        "execution": {
          "iopub.execute_input": "2020-09-10T02:47:22.642319Z",
          "iopub.status.busy": "2020-09-10T02:47:22.641518Z",
          "iopub.status.idle": "2020-09-10T02:49:03.301239Z",
          "shell.execute_reply": "2020-09-10T02:49:03.300759Z"
        },
        "papermill": {
          "duration": 100.674602,
          "end_time": "2020-09-10T02:49:03.301342",
          "exception": false,
          "start_time": "2020-09-10T02:47:22.626740",
          "status": "completed"
        },
        "tags": [],
        "id": "clGVPkfgN7mz",
        "colab_type": "code",
        "colab": {}
      },
      "source": [
        "model = AutoModelForSeq2SeqLM.from_pretrained('t5-base')\n",
        "tokenizer = AutoTokenizer.from_pretrained(\"t5-base\")"
      ],
      "execution_count": 8,
      "outputs": []
    },
    {
      "cell_type": "code",
      "metadata": {
        "execution": {
          "iopub.execute_input": "2020-09-10T02:49:03.332450Z",
          "iopub.status.busy": "2020-09-10T02:49:03.331858Z",
          "iopub.status.idle": "2020-09-10T02:49:18.264699Z",
          "shell.execute_reply": "2020-09-10T02:49:18.264252Z"
        },
        "papermill": {
          "duration": 14.951632,
          "end_time": "2020-09-10T02:49:18.264804",
          "exception": false,
          "start_time": "2020-09-10T02:49:03.313172",
          "status": "completed"
        },
        "tags": [],
        "id": "cjIdLykLN7m1",
        "colab_type": "code",
        "colab": {
          "base_uri": "https://localhost:8080/",
          "height": 34
        },
        "outputId": "a735ba8d-dbd2-4b9d-80aa-5ec2e841ce45"
      },
      "source": [
        "start = time.time()\n",
        "inputs = tokenizer.encode(\"summarize: \" + df.iloc[0]['content'], return_tensors=\"pt\", max_length=512, truncation=True)\n",
        "outputs = model.generate(inputs, max_length=150, min_length=40, length_penalty=2.0, num_beams=4, early_stopping=True)\n",
        "decoded_T5 = tokenizer.decode(outputs[0])\n",
        "end = time.time()\n",
        "t5_time = (end - start)\n",
        "print(t5_time)"
      ],
      "execution_count": 9,
      "outputs": [
        {
          "output_type": "stream",
          "text": [
            "17.31364130973816\n"
          ],
          "name": "stdout"
        }
      ]
    },
    {
      "cell_type": "code",
      "metadata": {
        "id": "WGNajvKfcWEz",
        "colab_type": "code",
        "colab": {
          "base_uri": "https://localhost:8080/",
          "height": 34
        },
        "outputId": "8c60a00e-036a-40e5-c627-b2576bd686fb"
      },
      "source": [
        "del tokenizer\n",
        "del model\n",
        "gc.collect()"
      ],
      "execution_count": 10,
      "outputs": [
        {
          "output_type": "execute_result",
          "data": {
            "text/plain": [
              "584"
            ]
          },
          "metadata": {
            "tags": []
          },
          "execution_count": 10
        }
      ]
    },
    {
      "cell_type": "markdown",
      "metadata": {
        "papermill": {
          "duration": 0.011645,
          "end_time": "2020-09-10T02:49:18.288314",
          "exception": false,
          "start_time": "2020-09-10T02:49:18.276669",
          "status": "completed"
        },
        "tags": [],
        "id": "AWFbB_eDN7m2",
        "colab_type": "text"
      },
      "source": [
        "### BERT"
      ]
    },
    {
      "cell_type": "code",
      "metadata": {
        "execution": {
          "iopub.execute_input": "2020-09-10T02:49:18.316865Z",
          "iopub.status.busy": "2020-09-10T02:49:18.316054Z",
          "iopub.status.idle": "2020-09-10T02:50:12.286095Z",
          "shell.execute_reply": "2020-09-10T02:50:12.285417Z"
        },
        "papermill": {
          "duration": 53.986516,
          "end_time": "2020-09-10T02:50:12.286241",
          "exception": false,
          "start_time": "2020-09-10T02:49:18.299725",
          "status": "completed"
        },
        "tags": [],
        "id": "ovMQQpQ6N7m3",
        "colab_type": "code",
        "colab": {
          "base_uri": "https://localhost:8080/",
          "height": 156
        },
        "outputId": "3bb4f558-1964-4486-9c1a-337dcfb2a0ab"
      },
      "source": [
        "model = AutoModelWithLMHead.from_pretrained('bert-base-cased')\n",
        "tokenizer = AutoTokenizer.from_pretrained(\"bert-base-cased\")"
      ],
      "execution_count": 11,
      "outputs": [
        {
          "output_type": "stream",
          "text": [
            "/usr/local/lib/python3.6/dist-packages/transformers/modeling_auto.py:821: FutureWarning: The class `AutoModelWithLMHead` is deprecated and will be removed in a future version. Please use `AutoModelForCausalLM` for causal language models, `AutoModelForMaskedLM` for masked language models and `AutoModelForSeq2SeqLM` for encoder-decoder models.\n",
            "  FutureWarning,\n",
            "Some weights of the model checkpoint at bert-base-cased were not used when initializing BertForMaskedLM: ['cls.seq_relationship.weight', 'cls.seq_relationship.bias']\n",
            "- This IS expected if you are initializing BertForMaskedLM from the checkpoint of a model trained on another task or with another architecture (e.g. initializing a BertForSequenceClassification model from a BertForPretraining model).\n",
            "- This IS NOT expected if you are initializing BertForMaskedLM from the checkpoint of a model that you expect to be exactly identical (initializing a BertForSequenceClassification model from a BertForSequenceClassification model).\n",
            "Some weights of BertForMaskedLM were not initialized from the model checkpoint at bert-base-cased and are newly initialized: ['cls.predictions.decoder.bias']\n",
            "You should probably TRAIN this model on a down-stream task to be able to use it for predictions and inference.\n"
          ],
          "name": "stderr"
        }
      ]
    },
    {
      "cell_type": "code",
      "metadata": {
        "execution": {
          "iopub.execute_input": "2020-09-10T02:50:12.318874Z",
          "iopub.status.busy": "2020-09-10T02:50:12.318090Z",
          "iopub.status.idle": "2020-09-10T02:51:00.294901Z",
          "shell.execute_reply": "2020-09-10T02:51:00.294091Z"
        },
        "papermill": {
          "duration": 47.995902,
          "end_time": "2020-09-10T02:51:00.295033",
          "exception": false,
          "start_time": "2020-09-10T02:50:12.299131",
          "status": "completed"
        },
        "tags": [],
        "id": "3W9CvHwDN7m5",
        "colab_type": "code",
        "colab": {
          "base_uri": "https://localhost:8080/",
          "height": 34
        },
        "outputId": "5fd1aad0-c90c-4cac-9dbd-44e4d0a88981"
      },
      "source": [
        "start = time.time()\n",
        "inputs = tokenizer.encode(\"summarize: \" + df.iloc[0]['content'], return_tensors=\"pt\", max_length=100, truncation=True)\n",
        "outputs = model.generate(inputs, max_length=150, min_length=40, length_penalty=2.0, num_beams=4, early_stopping=True)\n",
        "decoded_BERT = tokenizer.decode(outputs[0])\n",
        "end = time.time()\n",
        "BERT_time = (end-start)\n",
        "print(BERT_time)"
      ],
      "execution_count": 12,
      "outputs": [
        {
          "output_type": "stream",
          "text": [
            "96.90765404701233\n"
          ],
          "name": "stdout"
        }
      ]
    },
    {
      "cell_type": "code",
      "metadata": {
        "id": "GZkrEyTecXcP",
        "colab_type": "code",
        "colab": {
          "base_uri": "https://localhost:8080/",
          "height": 34
        },
        "outputId": "3470df46-e7c0-45f5-cf03-f9b15a91f166"
      },
      "source": [
        "del tokenizer\n",
        "del model\n",
        "gc.collect()"
      ],
      "execution_count": 13,
      "outputs": [
        {
          "output_type": "execute_result",
          "data": {
            "text/plain": [
              "0"
            ]
          },
          "metadata": {
            "tags": []
          },
          "execution_count": 13
        }
      ]
    },
    {
      "cell_type": "markdown",
      "metadata": {
        "papermill": {
          "duration": 0.012121,
          "end_time": "2020-09-10T02:51:00.320510",
          "exception": false,
          "start_time": "2020-09-10T02:51:00.308389",
          "status": "completed"
        },
        "tags": [],
        "id": "TbYIW24QN7m6",
        "colab_type": "text"
      },
      "source": [
        "### GPT "
      ]
    },
    {
      "cell_type": "code",
      "metadata": {
        "execution": {
          "iopub.execute_input": "2020-09-10T02:51:00.349484Z",
          "iopub.status.busy": "2020-09-10T02:51:00.348679Z",
          "iopub.status.idle": "2020-09-10T02:52:03.071412Z",
          "shell.execute_reply": "2020-09-10T02:52:03.070956Z"
        },
        "papermill": {
          "duration": 62.738741,
          "end_time": "2020-09-10T02:52:03.071518",
          "exception": false,
          "start_time": "2020-09-10T02:51:00.332777",
          "status": "completed"
        },
        "tags": [],
        "id": "aQdVtceYN7m7",
        "colab_type": "code",
        "colab": {
          "base_uri": "https://localhost:8080/",
          "height": 122
        },
        "outputId": "fe5c94ef-f6f0-4386-aa76-439d0ebdc29d"
      },
      "source": [
        "model = AutoModelWithLMHead.from_pretrained('openai-gpt')\n",
        "tokenizer = AutoTokenizer.from_pretrained(\"openai-gpt\")"
      ],
      "execution_count": 14,
      "outputs": [
        {
          "output_type": "stream",
          "text": [
            "/usr/local/lib/python3.6/dist-packages/transformers/modeling_auto.py:821: FutureWarning: The class `AutoModelWithLMHead` is deprecated and will be removed in a future version. Please use `AutoModelForCausalLM` for causal language models, `AutoModelForMaskedLM` for masked language models and `AutoModelForSeq2SeqLM` for encoder-decoder models.\n",
            "  FutureWarning,\n",
            "Some weights of OpenAIGPTLMHeadModel were not initialized from the model checkpoint at openai-gpt and are newly initialized: ['lm_head.weight']\n",
            "You should probably TRAIN this model on a down-stream task to be able to use it for predictions and inference.\n",
            "ftfy or spacy is not installed using BERT BasicTokenizer instead of SpaCy & ftfy.\n"
          ],
          "name": "stderr"
        }
      ]
    },
    {
      "cell_type": "code",
      "metadata": {
        "execution": {
          "iopub.execute_input": "2020-09-10T02:52:03.105675Z",
          "iopub.status.busy": "2020-09-10T02:52:03.104898Z",
          "iopub.status.idle": "2020-09-10T02:52:04.502624Z",
          "shell.execute_reply": "2020-09-10T02:52:04.502098Z"
        },
        "papermill": {
          "duration": 1.417627,
          "end_time": "2020-09-10T02:52:04.502726",
          "exception": false,
          "start_time": "2020-09-10T02:52:03.085099",
          "status": "completed"
        },
        "tags": [],
        "id": "4ngwUQbRN7m9",
        "colab_type": "code",
        "colab": {
          "base_uri": "https://localhost:8080/",
          "height": 34
        },
        "outputId": "322c29ae-31f6-4d4b-902b-7a114c075e5d"
      },
      "source": [
        "start = time.time()\n",
        "inputs = tokenizer.encode(\"summarize: \" + df.iloc[0]['content'], return_tensors=\"pt\", max_length=149, truncation=True)\n",
        "outputs = model.generate(inputs, max_length=150, min_length=40, length_penalty=2.0, num_beams=4, early_stopping=True)\n",
        "decoded_GPT = tokenizer.decode(outputs[0])\n",
        "end = time.time()\n",
        "GPT_time = (end - start)\n",
        "print(GPT_time)"
      ],
      "execution_count": 15,
      "outputs": [
        {
          "output_type": "stream",
          "text": [
            "2.648932695388794\n"
          ],
          "name": "stdout"
        }
      ]
    },
    {
      "cell_type": "code",
      "metadata": {
        "id": "iIKwXa2lcYmF",
        "colab_type": "code",
        "colab": {
          "base_uri": "https://localhost:8080/",
          "height": 34
        },
        "outputId": "e6febee0-c245-4cda-8236-10ffbc5727a2"
      },
      "source": [
        "del tokenizer\n",
        "del model\n",
        "gc.collect()"
      ],
      "execution_count": 16,
      "outputs": [
        {
          "output_type": "execute_result",
          "data": {
            "text/plain": [
              "0"
            ]
          },
          "metadata": {
            "tags": []
          },
          "execution_count": 16
        }
      ]
    },
    {
      "cell_type": "markdown",
      "metadata": {
        "papermill": {
          "duration": 0.013783,
          "end_time": "2020-09-10T02:52:04.531525",
          "exception": false,
          "start_time": "2020-09-10T02:52:04.517742",
          "status": "completed"
        },
        "tags": [],
        "id": "pty8RJ2FN7m-",
        "colab_type": "text"
      },
      "source": [
        "### DistilBERT"
      ]
    },
    {
      "cell_type": "code",
      "metadata": {
        "execution": {
          "iopub.execute_input": "2020-09-10T02:52:04.563392Z",
          "iopub.status.busy": "2020-09-10T02:52:04.562533Z",
          "iopub.status.idle": "2020-09-10T02:52:53.864646Z",
          "shell.execute_reply": "2020-09-10T02:52:53.864204Z"
        },
        "papermill": {
          "duration": 49.319493,
          "end_time": "2020-09-10T02:52:53.864748",
          "exception": false,
          "start_time": "2020-09-10T02:52:04.545255",
          "status": "completed"
        },
        "tags": [],
        "id": "00ssHbxTN7m_",
        "colab_type": "code",
        "colab": {
          "base_uri": "https://localhost:8080/",
          "height": 71
        },
        "outputId": "1372de9d-3997-4126-f3cb-4645080cc65a"
      },
      "source": [
        "model = AutoModelWithLMHead.from_pretrained('distilgpt2')\n",
        "tokenizer = AutoTokenizer.from_pretrained(\"distilgpt2\")"
      ],
      "execution_count": 17,
      "outputs": [
        {
          "output_type": "stream",
          "text": [
            "/usr/local/lib/python3.6/dist-packages/transformers/modeling_auto.py:821: FutureWarning: The class `AutoModelWithLMHead` is deprecated and will be removed in a future version. Please use `AutoModelForCausalLM` for causal language models, `AutoModelForMaskedLM` for masked language models and `AutoModelForSeq2SeqLM` for encoder-decoder models.\n",
            "  FutureWarning,\n"
          ],
          "name": "stderr"
        }
      ]
    },
    {
      "cell_type": "code",
      "metadata": {
        "execution": {
          "iopub.execute_input": "2020-09-10T02:52:53.902178Z",
          "iopub.status.busy": "2020-09-10T02:52:53.901561Z",
          "iopub.status.idle": "2020-09-10T02:52:54.864279Z",
          "shell.execute_reply": "2020-09-10T02:52:54.865051Z"
        },
        "papermill": {
          "duration": 0.985661,
          "end_time": "2020-09-10T02:52:54.865246",
          "exception": false,
          "start_time": "2020-09-10T02:52:53.879585",
          "status": "completed"
        },
        "tags": [],
        "id": "_SqQVdSiN7nB",
        "colab_type": "code",
        "colab": {
          "base_uri": "https://localhost:8080/",
          "height": 51
        },
        "outputId": "f07e69ce-fc01-43d4-fa8e-2d064de7cb93"
      },
      "source": [
        "start = time.time()\n",
        "inputs = tokenizer.encode(\"summarize: \" + df.iloc[0]['content'], return_tensors=\"pt\", max_length=149, truncation=True)\n",
        "outputs = model.generate(inputs, max_length=150, min_length=40, length_penalty=2.0, num_beams=4, early_stopping=True)\n",
        "decoded_DistilBERT = tokenizer.decode(outputs[0])\n",
        "end = time.time()\n",
        "DistilBERT_time = (end - start)\n",
        "print(DistilBERT_time)"
      ],
      "execution_count": 18,
      "outputs": [
        {
          "output_type": "stream",
          "text": [
            "Setting `pad_token_id` to 50256 (first `eos_token_id`) to generate sequence\n"
          ],
          "name": "stderr"
        },
        {
          "output_type": "stream",
          "text": [
            "1.7898578643798828\n"
          ],
          "name": "stdout"
        }
      ]
    },
    {
      "cell_type": "code",
      "metadata": {
        "id": "vtf87AilcZqM",
        "colab_type": "code",
        "colab": {
          "base_uri": "https://localhost:8080/",
          "height": 34
        },
        "outputId": "2e979c31-362f-493e-97aa-aac6e14bfcd1"
      },
      "source": [
        "del tokenizer\n",
        "del model\n",
        "gc.collect()"
      ],
      "execution_count": 19,
      "outputs": [
        {
          "output_type": "execute_result",
          "data": {
            "text/plain": [
              "0"
            ]
          },
          "metadata": {
            "tags": []
          },
          "execution_count": 19
        }
      ]
    },
    {
      "cell_type": "markdown",
      "metadata": {
        "papermill": {
          "duration": 0.022824,
          "end_time": "2020-09-10T02:52:54.922357",
          "exception": false,
          "start_time": "2020-09-10T02:52:54.899533",
          "status": "completed"
        },
        "tags": [],
        "id": "a91iOm1xN7nD",
        "colab_type": "text"
      },
      "source": [
        "### GPT2"
      ]
    },
    {
      "cell_type": "code",
      "metadata": {
        "execution": {
          "iopub.execute_input": "2020-09-10T02:52:54.979894Z",
          "iopub.status.busy": "2020-09-10T02:52:54.977824Z",
          "iopub.status.idle": "2020-09-10T02:54:05.968388Z",
          "shell.execute_reply": "2020-09-10T02:54:05.968806Z"
        },
        "papermill": {
          "duration": 71.021254,
          "end_time": "2020-09-10T02:54:05.968985",
          "exception": false,
          "start_time": "2020-09-10T02:52:54.947731",
          "status": "completed"
        },
        "tags": [],
        "id": "47Zuk1o_N7nD",
        "colab_type": "code",
        "colab": {
          "base_uri": "https://localhost:8080/",
          "height": 71
        },
        "outputId": "b1f123dd-f255-4d64-c1d3-444ff648141a"
      },
      "source": [
        "model = AutoModelWithLMHead.from_pretrained('gpt2')\n",
        "tokenizer = AutoTokenizer.from_pretrained(\"gpt2\")"
      ],
      "execution_count": 20,
      "outputs": [
        {
          "output_type": "stream",
          "text": [
            "/usr/local/lib/python3.6/dist-packages/transformers/modeling_auto.py:821: FutureWarning: The class `AutoModelWithLMHead` is deprecated and will be removed in a future version. Please use `AutoModelForCausalLM` for causal language models, `AutoModelForMaskedLM` for masked language models and `AutoModelForSeq2SeqLM` for encoder-decoder models.\n",
            "  FutureWarning,\n"
          ],
          "name": "stderr"
        }
      ]
    },
    {
      "cell_type": "code",
      "metadata": {
        "execution": {
          "iopub.execute_input": "2020-09-10T02:54:06.007063Z",
          "iopub.status.busy": "2020-09-10T02:54:06.006264Z",
          "iopub.status.idle": "2020-09-10T02:54:07.380657Z",
          "shell.execute_reply": "2020-09-10T02:54:07.380209Z"
        },
        "papermill": {
          "duration": 1.395986,
          "end_time": "2020-09-10T02:54:07.380751",
          "exception": false,
          "start_time": "2020-09-10T02:54:05.984765",
          "status": "completed"
        },
        "tags": [],
        "id": "WAol1HFfN7nF",
        "colab_type": "code",
        "colab": {
          "base_uri": "https://localhost:8080/",
          "height": 51
        },
        "outputId": "e9496e40-218d-4f0a-b7ef-0ba100a60e0c"
      },
      "source": [
        "start = time.time()\n",
        "inputs = tokenizer.encode(\"summarize: \" + df.iloc[0]['content'], return_tensors=\"pt\", max_length=149, truncation=True)\n",
        "outputs = model.generate(inputs, max_length=150, min_length=40, length_penalty=2.0, num_beams=4, early_stopping=True)\n",
        "decoded_GPT2 = tokenizer.decode(outputs[0])\n",
        "end = time.time()\n",
        "GPT2_time = (end - start)\n",
        "print(GPT2_time)"
      ],
      "execution_count": 21,
      "outputs": [
        {
          "output_type": "stream",
          "text": [
            "Setting `pad_token_id` to 50256 (first `eos_token_id`) to generate sequence\n"
          ],
          "name": "stderr"
        },
        {
          "output_type": "stream",
          "text": [
            "2.830915927886963\n"
          ],
          "name": "stdout"
        }
      ]
    },
    {
      "cell_type": "code",
      "metadata": {
        "id": "wz5GtWNIcb-t",
        "colab_type": "code",
        "colab": {
          "base_uri": "https://localhost:8080/",
          "height": 34
        },
        "outputId": "c11659fe-c42c-4020-820c-0372b9ebf460"
      },
      "source": [
        "del tokenizer\n",
        "del model\n",
        "gc.collect()"
      ],
      "execution_count": 22,
      "outputs": [
        {
          "output_type": "execute_result",
          "data": {
            "text/plain": [
              "0"
            ]
          },
          "metadata": {
            "tags": []
          },
          "execution_count": 22
        }
      ]
    },
    {
      "cell_type": "markdown",
      "metadata": {
        "papermill": {
          "duration": 0.019528,
          "end_time": "2020-09-10T02:54:07.416080",
          "exception": false,
          "start_time": "2020-09-10T02:54:07.396552",
          "status": "completed"
        },
        "tags": [],
        "id": "b9b9Xo1mN7nH",
        "colab_type": "text"
      },
      "source": [
        "### T5 Trained on Wikihow"
      ]
    },
    {
      "cell_type": "code",
      "metadata": {
        "execution": {
          "iopub.execute_input": "2020-09-10T02:54:07.452192Z",
          "iopub.status.busy": "2020-09-10T02:54:07.450496Z",
          "iopub.status.idle": "2020-09-10T02:54:47.231471Z",
          "shell.execute_reply": "2020-09-10T02:54:47.232341Z"
        },
        "papermill": {
          "duration": 39.80105,
          "end_time": "2020-09-10T02:54:47.232542",
          "exception": false,
          "start_time": "2020-09-10T02:54:07.431492",
          "status": "completed"
        },
        "tags": [],
        "id": "YzgYA9cTN7nH",
        "colab_type": "code",
        "colab": {}
      },
      "source": [
        "model = AutoModelForSeq2SeqLM.from_pretrained(\"deep-learning-analytics/wikihow-t5-small\")\n",
        "tokenizer = AutoTokenizer.from_pretrained(\"deep-learning-analytics/wikihow-t5-small\")"
      ],
      "execution_count": 23,
      "outputs": []
    },
    {
      "cell_type": "code",
      "metadata": {
        "execution": {
          "iopub.execute_input": "2020-09-10T02:54:47.295503Z",
          "iopub.status.busy": "2020-09-10T02:54:47.294672Z",
          "iopub.status.idle": "2020-09-10T02:54:53.978223Z",
          "shell.execute_reply": "2020-09-10T02:54:53.977554Z"
        },
        "papermill": {
          "duration": 6.718626,
          "end_time": "2020-09-10T02:54:53.978357",
          "exception": false,
          "start_time": "2020-09-10T02:54:47.259731",
          "status": "completed"
        },
        "tags": [],
        "id": "6gKF3f5xN7nJ",
        "colab_type": "code",
        "colab": {
          "base_uri": "https://localhost:8080/",
          "height": 34
        },
        "outputId": "0eba0e6b-30f0-4249-cebe-3f5cfa53fd94"
      },
      "source": [
        "start = time.time()\n",
        "inputs = tokenizer.encode(\"summarize: \" + df.iloc[0]['content'], return_tensors=\"pt\", max_length=1024, truncation=True)\n",
        "outputs = model.generate(inputs, min_length=40, length_penalty=2.0, num_beams=4, early_stopping=True)\n",
        "decoded_T5_wikihow = tokenizer.decode(outputs[0])\n",
        "end = time.time()\n",
        "t5_wikihow_time = (end - start)\n",
        "print(t5_wikihow_time)"
      ],
      "execution_count": 24,
      "outputs": [
        {
          "output_type": "stream",
          "text": [
            "4.519234657287598\n"
          ],
          "name": "stdout"
        }
      ]
    },
    {
      "cell_type": "code",
      "metadata": {
        "id": "52ZIJTRTcdhE",
        "colab_type": "code",
        "colab": {
          "base_uri": "https://localhost:8080/",
          "height": 34
        },
        "outputId": "0752d6a9-27f9-4915-ee1a-2b43d21a91f8"
      },
      "source": [
        "del tokenizer\n",
        "del model\n",
        "gc.collect()"
      ],
      "execution_count": 25,
      "outputs": [
        {
          "output_type": "execute_result",
          "data": {
            "text/plain": [
              "318"
            ]
          },
          "metadata": {
            "tags": []
          },
          "execution_count": 25
        }
      ]
    },
    {
      "cell_type": "markdown",
      "metadata": {
        "papermill": {
          "duration": 0.029707,
          "end_time": "2020-09-10T02:54:54.025583",
          "exception": false,
          "start_time": "2020-09-10T02:54:53.995876",
          "status": "completed"
        },
        "tags": [],
        "id": "7seudGX6N7nN",
        "colab_type": "text"
      },
      "source": [
        "### Pegasus NewsRoom"
      ]
    },
    {
      "cell_type": "code",
      "metadata": {
        "execution": {
          "iopub.execute_input": "2020-09-10T02:54:54.071429Z",
          "iopub.status.busy": "2020-09-10T02:54:54.070020Z",
          "iopub.status.idle": "2020-09-10T02:59:04.051198Z",
          "shell.execute_reply": "2020-09-10T02:59:04.048281Z"
        },
        "papermill": {
          "duration": 250.001632,
          "end_time": "2020-09-10T02:59:04.051315",
          "exception": false,
          "start_time": "2020-09-10T02:54:54.049683",
          "status": "completed"
        },
        "tags": [],
        "id": "JgcUZFfmN7nN",
        "colab_type": "code",
        "colab": {}
      },
      "source": [
        "model = AutoModelForSeq2SeqLM.from_pretrained(\"google/pegasus-newsroom\")\n",
        "tokenizer = AutoTokenizer.from_pretrained(\"google/pegasus-newsroom\")"
      ],
      "execution_count": 26,
      "outputs": []
    },
    {
      "cell_type": "code",
      "metadata": {
        "execution": {
          "iopub.execute_input": "2020-09-10T02:59:04.147139Z",
          "iopub.status.busy": "2020-09-10T02:59:04.146363Z",
          "iopub.status.idle": "2020-09-10T02:59:35.363751Z",
          "shell.execute_reply": "2020-09-10T02:59:35.363034Z"
        },
        "papermill": {
          "duration": 31.294569,
          "end_time": "2020-09-10T02:59:35.363923",
          "exception": false,
          "start_time": "2020-09-10T02:59:04.069354",
          "status": "completed"
        },
        "tags": [],
        "id": "DtGV-dLTN7nP",
        "colab_type": "code",
        "colab": {
          "base_uri": "https://localhost:8080/",
          "height": 34
        },
        "outputId": "2991b608-0057-402f-bc15-1cd86e2297b2"
      },
      "source": [
        "start = time.time()\n",
        "batch = tokenizer.prepare_seq2seq_batch(df['content'].tolist()[:1], max_target_length=200, padding='longest')\n",
        "translated = model.generate(**batch)\n",
        "tgt_text = tokenizer.batch_decode(translated, skip_special_tokens=True)\n",
        "end = time.time()\n",
        "decoded_pegasus_newsroom = tgt_text[0]\n",
        "pegasus_newsroom_time = (end - start)\n",
        "print(pegasus_newsroom_time)"
      ],
      "execution_count": 27,
      "outputs": [
        {
          "output_type": "stream",
          "text": [
            "35.92016124725342\n"
          ],
          "name": "stdout"
        }
      ]
    },
    {
      "cell_type": "code",
      "metadata": {
        "id": "428GQdVnckMf",
        "colab_type": "code",
        "colab": {
          "base_uri": "https://localhost:8080/",
          "height": 34
        },
        "outputId": "b3d5ee96-df0b-49a3-fe61-cc63a77d47b4"
      },
      "source": [
        "del tokenizer\n",
        "del model\n",
        "gc.collect()"
      ],
      "execution_count": 28,
      "outputs": [
        {
          "output_type": "execute_result",
          "data": {
            "text/plain": [
              "1375"
            ]
          },
          "metadata": {
            "tags": []
          },
          "execution_count": 28
        }
      ]
    },
    {
      "cell_type": "markdown",
      "metadata": {
        "papermill": {
          "duration": 0.017022,
          "end_time": "2020-09-10T02:59:35.403778",
          "exception": false,
          "start_time": "2020-09-10T02:59:35.386756",
          "status": "completed"
        },
        "tags": [],
        "id": "CQwDb8ZfN7nR",
        "colab_type": "text"
      },
      "source": [
        "### Pegasus CNN Daily Mail"
      ]
    },
    {
      "cell_type": "code",
      "metadata": {
        "execution": {
          "iopub.execute_input": "2020-09-10T02:59:35.442984Z",
          "iopub.status.busy": "2020-09-10T02:59:35.442175Z",
          "iopub.status.idle": "2020-09-10T03:04:05.698548Z",
          "shell.execute_reply": "2020-09-10T03:04:05.698065Z"
        },
        "papermill": {
          "duration": 270.277694,
          "end_time": "2020-09-10T03:04:05.698656",
          "exception": false,
          "start_time": "2020-09-10T02:59:35.420962",
          "status": "completed"
        },
        "tags": [],
        "id": "BcpZP7CjN7nR",
        "colab_type": "code",
        "colab": {}
      },
      "source": [
        "tokenizer = AutoTokenizer.from_pretrained(\"google/pegasus-cnn_dailymail\")\n",
        "model = AutoModelForSeq2SeqLM.from_pretrained(\"google/pegasus-cnn_dailymail\")"
      ],
      "execution_count": 29,
      "outputs": []
    },
    {
      "cell_type": "code",
      "metadata": {
        "execution": {
          "iopub.execute_input": "2020-09-10T03:04:05.756746Z",
          "iopub.status.busy": "2020-09-10T03:04:05.755995Z",
          "iopub.status.idle": "2020-09-10T03:05:18.172874Z",
          "shell.execute_reply": "2020-09-10T03:05:18.172121Z"
        },
        "papermill": {
          "duration": 72.455634,
          "end_time": "2020-09-10T03:05:18.173010",
          "exception": false,
          "start_time": "2020-09-10T03:04:05.717376",
          "status": "completed"
        },
        "tags": [],
        "id": "BDVdVqaEN7nT",
        "colab_type": "code",
        "colab": {
          "base_uri": "https://localhost:8080/",
          "height": 34
        },
        "outputId": "13773ce3-cc65-4896-d0bd-0e4407b4044e"
      },
      "source": [
        "start = time.time()\n",
        "batch = tokenizer.prepare_seq2seq_batch(df['content'].tolist()[:1], max_target_length=200, padding='longest')\n",
        "translated = model.generate(**batch)\n",
        "tgt_text = tokenizer.batch_decode(translated, skip_special_tokens=True)\n",
        "end = time.time()\n",
        "decoded_pegasus_cnn = tgt_text[0]\n",
        "pegasus_cnn_time = (end - start)\n",
        "print(pegasus_cnn_time)"
      ],
      "execution_count": 30,
      "outputs": [
        {
          "output_type": "stream",
          "text": [
            "84.74882459640503\n"
          ],
          "name": "stdout"
        }
      ]
    },
    {
      "cell_type": "code",
      "metadata": {
        "id": "NzTTEOE9SGeK",
        "colab_type": "code",
        "colab": {
          "base_uri": "https://localhost:8080/",
          "height": 34
        },
        "outputId": "fd710d0b-1b13-4a3e-e1e5-5d5727b67d31"
      },
      "source": [
        "del tokenizer\n",
        "del model\n",
        "gc.collect()"
      ],
      "execution_count": 31,
      "outputs": [
        {
          "output_type": "execute_result",
          "data": {
            "text/plain": [
              "1375"
            ]
          },
          "metadata": {
            "tags": []
          },
          "execution_count": 31
        }
      ]
    },
    {
      "cell_type": "markdown",
      "metadata": {
        "id": "LX7bDSBWR788",
        "colab_type": "text"
      },
      "source": [
        "### Pegasus Multi News"
      ]
    },
    {
      "cell_type": "code",
      "metadata": {
        "id": "iJ_kN1qzR_1H",
        "colab_type": "code",
        "colab": {}
      },
      "source": [
        "tokenizer = AutoTokenizer.from_pretrained(\"google/pegasus-multi_news\")\n",
        "model = AutoModelForSeq2SeqLM.from_pretrained(\"google/pegasus-multi_news\")"
      ],
      "execution_count": 32,
      "outputs": []
    },
    {
      "cell_type": "code",
      "metadata": {
        "id": "8NhGym31SC4L",
        "colab_type": "code",
        "colab": {
          "base_uri": "https://localhost:8080/",
          "height": 34
        },
        "outputId": "e2911217-2ef3-4a7c-8f9e-7a54dbab75e7"
      },
      "source": [
        "start = time.time()\n",
        "batch = tokenizer.prepare_seq2seq_batch(df['content'].tolist()[:1], max_target_length=100, padding='longest')\n",
        "translated = model.generate(**batch)\n",
        "tgt_text = tokenizer.batch_decode(translated, skip_special_tokens=True)\n",
        "end = time.time()\n",
        "decoded_pegasus_multi = tgt_text[0]\n",
        "pegasus_multi_time = (end - start)\n",
        "print(pegasus_multi_time)"
      ],
      "execution_count": 33,
      "outputs": [
        {
          "output_type": "stream",
          "text": [
            "226.9620771408081\n"
          ],
          "name": "stdout"
        }
      ]
    },
    {
      "cell_type": "code",
      "metadata": {
        "id": "N6cmuWRPVsll",
        "colab_type": "code",
        "colab": {
          "base_uri": "https://localhost:8080/",
          "height": 34
        },
        "outputId": "638ad579-1111-4497-82c5-f9cb60cad68f"
      },
      "source": [
        "del tokenizer\n",
        "del model\n",
        "gc.collect()"
      ],
      "execution_count": 34,
      "outputs": [
        {
          "output_type": "execute_result",
          "data": {
            "text/plain": [
              "1375"
            ]
          },
          "metadata": {
            "tags": []
          },
          "execution_count": 34
        }
      ]
    },
    {
      "cell_type": "markdown",
      "metadata": {
        "id": "yOt1ozGkWBZj",
        "colab_type": "text"
      },
      "source": [
        "### Pegasus Billsum"
      ]
    },
    {
      "cell_type": "code",
      "metadata": {
        "id": "AOeRFAYVWKQl",
        "colab_type": "code",
        "colab": {}
      },
      "source": [
        "tokenizer = AutoTokenizer.from_pretrained(\"google/pegasus-billsum\")\n",
        "model = AutoModelForSeq2SeqLM.from_pretrained(\"google/pegasus-billsum\")"
      ],
      "execution_count": 35,
      "outputs": []
    },
    {
      "cell_type": "code",
      "metadata": {
        "id": "3L0mxqGDWKaG",
        "colab_type": "code",
        "colab": {
          "base_uri": "https://localhost:8080/",
          "height": 34
        },
        "outputId": "1a871c11-29c3-4525-b6db-d84ce7e6d259"
      },
      "source": [
        "start = time.time()\n",
        "batch = tokenizer.prepare_seq2seq_batch(df['content'].tolist()[:1], max_target_length=100, padding='longest')\n",
        "translated = model.generate(**batch)\n",
        "tgt_text = tokenizer.batch_decode(translated, skip_special_tokens=True)\n",
        "end = time.time()\n",
        "decoded_pegasus_billsum = tgt_text[0]\n",
        "pegasus_billsum_time = (end - start)\n",
        "print(pegasus_billsum_time)"
      ],
      "execution_count": 36,
      "outputs": [
        {
          "output_type": "stream",
          "text": [
            "88.71667456626892\n"
          ],
          "name": "stdout"
        }
      ]
    },
    {
      "cell_type": "code",
      "metadata": {
        "id": "hepe4bbZWz2C",
        "colab_type": "code",
        "colab": {
          "base_uri": "https://localhost:8080/",
          "height": 34
        },
        "outputId": "563c6661-f7f4-49c2-8f5f-ce98a66afb73"
      },
      "source": [
        "del tokenizer\n",
        "del model\n",
        "gc.collect()"
      ],
      "execution_count": 37,
      "outputs": [
        {
          "output_type": "execute_result",
          "data": {
            "text/plain": [
              "1375"
            ]
          },
          "metadata": {
            "tags": []
          },
          "execution_count": 37
        }
      ]
    },
    {
      "cell_type": "markdown",
      "metadata": {
        "papermill": {
          "duration": 0.018288,
          "end_time": "2020-09-10T03:05:18.211537",
          "exception": false,
          "start_time": "2020-09-10T03:05:18.193249",
          "status": "completed"
        },
        "tags": [],
        "id": "bCFCT05eN7nV",
        "colab_type": "text"
      },
      "source": [
        "## Results Analysis"
      ]
    },
    {
      "cell_type": "markdown",
      "metadata": {
        "id": "GjikNdlkgV2F",
        "colab_type": "text"
      },
      "source": [
        "### Print All Decoded Summaries"
      ]
    },
    {
      "cell_type": "code",
      "metadata": {
        "execution": {
          "iopub.execute_input": "2020-09-10T03:05:18.252890Z",
          "iopub.status.busy": "2020-09-10T03:05:18.252112Z",
          "iopub.status.idle": "2020-09-10T03:05:18.255495Z",
          "shell.execute_reply": "2020-09-10T03:05:18.255928Z"
        },
        "papermill": {
          "duration": 0.026036,
          "end_time": "2020-09-10T03:05:18.256035",
          "exception": false,
          "start_time": "2020-09-10T03:05:18.229999",
          "status": "completed"
        },
        "tags": [],
        "id": "msuPmbqEN7nV",
        "colab_type": "code",
        "colab": {
          "base_uri": "https://localhost:8080/",
          "height": 86
        },
        "outputId": "8d6ecaeb-c9c1-460a-eb6e-fb276c0fb700"
      },
      "source": [
        "decoded_BERT"
      ],
      "execution_count": 38,
      "outputs": [
        {
          "output_type": "execute_result",
          "data": {
            "application/vnd.google.colaboratory.intrinsic+json": {
              "type": "string"
            },
            "text/plain": [
              "'[CLS] summarize : WASHINGTON — Congressional Republicans have a new fear when it comes to their health care lawsuit against the Obama administration : They might win. The incoming Trump administration could choose to no longer defend the executive branch against the suit, which challenges the administration ’ s authority to spend billions of dollars on health insurance subsidies for and Americans, handing House Republicans a big victory on issues. But a sudden loss of the disputed subsidies could conceivably cause the health care [SEP] If - - - - - - - - - - - - that the situation changes when - - - - - - - - - - - - - - - - - If the situation changes, the situation changes. - - - - - -'"
            ]
          },
          "metadata": {
            "tags": []
          },
          "execution_count": 38
        }
      ]
    },
    {
      "cell_type": "code",
      "metadata": {
        "execution": {
          "iopub.execute_input": "2020-09-10T03:05:18.298139Z",
          "iopub.status.busy": "2020-09-10T03:05:18.297286Z",
          "iopub.status.idle": "2020-09-10T03:05:18.301110Z",
          "shell.execute_reply": "2020-09-10T03:05:18.300642Z"
        },
        "papermill": {
          "duration": 0.026569,
          "end_time": "2020-09-10T03:05:18.301195",
          "exception": false,
          "start_time": "2020-09-10T03:05:18.274626",
          "status": "completed"
        },
        "tags": [],
        "id": "1Knp23q7N7nX",
        "colab_type": "code",
        "colab": {
          "base_uri": "https://localhost:8080/",
          "height": 52
        },
        "outputId": "80510c8b-0d8f-4b36-fdeb-e91a0a3008a4"
      },
      "source": [
        "decoded_T5"
      ],
      "execution_count": 39,
      "outputs": [
        {
          "output_type": "execute_result",
          "data": {
            "application/vnd.google.colaboratory.intrinsic+json": {
              "type": "string"
            },
            "text/plain": [
              "'a sudden loss of the disputed subsidies could conceivably cause the health care program to implode. that could lead to chaos in the insurance market and spur a political backlash just as Republicans gain full control of the government. the incoming Trump administration could choose to no longer defend the executive branch against the suit.'"
            ]
          },
          "metadata": {
            "tags": []
          },
          "execution_count": 39
        }
      ]
    },
    {
      "cell_type": "code",
      "metadata": {
        "execution": {
          "iopub.execute_input": "2020-09-10T03:05:18.342353Z",
          "iopub.status.busy": "2020-09-10T03:05:18.341515Z",
          "iopub.status.idle": "2020-09-10T03:05:18.345002Z",
          "shell.execute_reply": "2020-09-10T03:05:18.345562Z"
        },
        "papermill": {
          "duration": 0.025966,
          "end_time": "2020-09-10T03:05:18.345678",
          "exception": false,
          "start_time": "2020-09-10T03:05:18.319712",
          "status": "completed"
        },
        "tags": [],
        "id": "ACzoxbqFN7nY",
        "colab_type": "code",
        "colab": {
          "base_uri": "https://localhost:8080/",
          "height": 86
        },
        "outputId": "e2f2a995-3fec-4197-9431-808ca3fee0f4"
      },
      "source": [
        "decoded_DistilBERT"
      ],
      "execution_count": 40,
      "outputs": [
        {
          "output_type": "execute_result",
          "data": {
            "application/vnd.google.colaboratory.intrinsic+json": {
              "type": "string"
            },
            "text/plain": [
              "'summarize: WASHINGTON  —   Congressional Republicans have a new fear when it comes to their    health care lawsuit against the Obama administration: They might win. The incoming Trump administration could choose to no longer defend the executive branch against the suit, which challenges the administration’s authority to spend billions of dollars on health insurance subsidies for   and   Americans, handing House Republicans a big victory on    issues. But a sudden loss of the disputed subsidies could conceivably cause the health care program to implode, leaving millions of people without access to health insurance before Republicans have prepared a replacement. That could lead to chaos in the insurance market and spur a political backlash just as Republicans gain full control of the government.'"
            ]
          },
          "metadata": {
            "tags": []
          },
          "execution_count": 40
        }
      ]
    },
    {
      "cell_type": "code",
      "metadata": {
        "execution": {
          "iopub.execute_input": "2020-09-10T03:05:18.387618Z",
          "iopub.status.busy": "2020-09-10T03:05:18.386816Z",
          "iopub.status.idle": "2020-09-10T03:05:18.390496Z",
          "shell.execute_reply": "2020-09-10T03:05:18.390067Z"
        },
        "papermill": {
          "duration": 0.026137,
          "end_time": "2020-09-10T03:05:18.390578",
          "exception": false,
          "start_time": "2020-09-10T03:05:18.364441",
          "status": "completed"
        },
        "tags": [],
        "id": "c8fi73zaN7na",
        "colab_type": "code",
        "colab": {
          "base_uri": "https://localhost:8080/",
          "height": 86
        },
        "outputId": "a5d9af9a-b755-424e-dd54-0c0a7b05cdf5"
      },
      "source": [
        "decoded_GPT"
      ],
      "execution_count": 41,
      "outputs": [
        {
          "output_type": "execute_result",
          "data": {
            "application/vnd.google.colaboratory.intrinsic+json": {
              "type": "string"
            },
            "text/plain": [
              "'summarize : washington <unk>congressional republicans have a new fear when it comes to their health care lawsuit against the obama administration : they might win. the incoming trump administration could choose to no longer defend the executive branch against the suit, which challenges the administration <unk>s authority to spend billions of dollars on health insurance subsidies for and americans, handing house republicans a big victory on issues. but a sudden loss of the disputed subsidies could conceivably cause the health care program to implode, leaving millions of people without access to health insurance before republicans have prepared a replacement. that could lead to chaos in the insurance market and spur a political backlash just as republicans gain full control of the government. to stave off that outcome, republicans could find a'"
            ]
          },
          "metadata": {
            "tags": []
          },
          "execution_count": 41
        }
      ]
    },
    {
      "cell_type": "code",
      "metadata": {
        "execution": {
          "iopub.execute_input": "2020-09-10T03:05:18.433223Z",
          "iopub.status.busy": "2020-09-10T03:05:18.432488Z",
          "iopub.status.idle": "2020-09-10T03:05:18.435635Z",
          "shell.execute_reply": "2020-09-10T03:05:18.436102Z"
        },
        "papermill": {
          "duration": 0.026444,
          "end_time": "2020-09-10T03:05:18.436205",
          "exception": false,
          "start_time": "2020-09-10T03:05:18.409761",
          "status": "completed"
        },
        "tags": [],
        "id": "C4uWIqJYN7nb",
        "colab_type": "code",
        "colab": {
          "base_uri": "https://localhost:8080/",
          "height": 86
        },
        "outputId": "7dcefcc3-ad0b-4e0a-93fd-ac4ff339f65f"
      },
      "source": [
        "decoded_DistilBERT"
      ],
      "execution_count": 42,
      "outputs": [
        {
          "output_type": "execute_result",
          "data": {
            "application/vnd.google.colaboratory.intrinsic+json": {
              "type": "string"
            },
            "text/plain": [
              "'summarize: WASHINGTON  —   Congressional Republicans have a new fear when it comes to their    health care lawsuit against the Obama administration: They might win. The incoming Trump administration could choose to no longer defend the executive branch against the suit, which challenges the administration’s authority to spend billions of dollars on health insurance subsidies for   and   Americans, handing House Republicans a big victory on    issues. But a sudden loss of the disputed subsidies could conceivably cause the health care program to implode, leaving millions of people without access to health insurance before Republicans have prepared a replacement. That could lead to chaos in the insurance market and spur a political backlash just as Republicans gain full control of the government.'"
            ]
          },
          "metadata": {
            "tags": []
          },
          "execution_count": 42
        }
      ]
    },
    {
      "cell_type": "code",
      "metadata": {
        "execution": {
          "iopub.execute_input": "2020-09-10T03:05:18.478922Z",
          "iopub.status.busy": "2020-09-10T03:05:18.478205Z",
          "iopub.status.idle": "2020-09-10T03:05:18.481180Z",
          "shell.execute_reply": "2020-09-10T03:05:18.481601Z"
        },
        "papermill": {
          "duration": 0.026526,
          "end_time": "2020-09-10T03:05:18.481702",
          "exception": false,
          "start_time": "2020-09-10T03:05:18.455176",
          "status": "completed"
        },
        "tags": [],
        "id": "n1kDR-NjN7nd",
        "colab_type": "code",
        "colab": {
          "base_uri": "https://localhost:8080/",
          "height": 35
        },
        "outputId": "da6eec1c-81ba-49cd-8474-2f3f41bf5e5c"
      },
      "source": [
        "decoded_T5_wikihow"
      ],
      "execution_count": 43,
      "outputs": [
        {
          "output_type": "execute_result",
          "data": {
            "application/vnd.google.colaboratory.intrinsic+json": {
              "type": "string"
            },
            "text/plain": [
              "'Defend the health care lawsuit against the Obama administration.Consider a temporary suspension'"
            ]
          },
          "metadata": {
            "tags": []
          },
          "execution_count": 43
        }
      ]
    },
    {
      "cell_type": "code",
      "metadata": {
        "execution": {
          "iopub.execute_input": "2020-09-10T03:05:18.524322Z",
          "iopub.status.busy": "2020-09-10T03:05:18.523490Z",
          "iopub.status.idle": "2020-09-10T03:05:18.527396Z",
          "shell.execute_reply": "2020-09-10T03:05:18.526879Z"
        },
        "papermill": {
          "duration": 0.026494,
          "end_time": "2020-09-10T03:05:18.527480",
          "exception": false,
          "start_time": "2020-09-10T03:05:18.500986",
          "status": "completed"
        },
        "tags": [],
        "id": "DfoGmsxIN7nf",
        "colab_type": "code",
        "colab": {
          "base_uri": "https://localhost:8080/",
          "height": 86
        },
        "outputId": "42b2bdf8-6b77-4084-ef61-69292a32b9ff"
      },
      "source": [
        "decoded_GPT2"
      ],
      "execution_count": 44,
      "outputs": [
        {
          "output_type": "execute_result",
          "data": {
            "application/vnd.google.colaboratory.intrinsic+json": {
              "type": "string"
            },
            "text/plain": [
              "'summarize: WASHINGTON  —   Congressional Republicans have a new fear when it comes to their    health care lawsuit against the Obama administration: They might win. The incoming Trump administration could choose to no longer defend the executive branch against the suit, which challenges the administration’s authority to spend billions of dollars on health insurance subsidies for   and   Americans, handing House Republicans a big victory on    issues. But a sudden loss of the disputed subsidies could conceivably cause the health care program to implode, leaving millions of people without access to health insurance before Republicans have prepared a replacement. That could lead to chaos in the insurance market and spur a political backlash just as Republicans gain full control of the government.'"
            ]
          },
          "metadata": {
            "tags": []
          },
          "execution_count": 44
        }
      ]
    },
    {
      "cell_type": "code",
      "metadata": {
        "execution": {
          "iopub.execute_input": "2020-09-10T03:05:18.569749Z",
          "iopub.status.busy": "2020-09-10T03:05:18.569033Z",
          "iopub.status.idle": "2020-09-10T03:05:18.572547Z",
          "shell.execute_reply": "2020-09-10T03:05:18.572138Z"
        },
        "papermill": {
          "duration": 0.026003,
          "end_time": "2020-09-10T03:05:18.572629",
          "exception": false,
          "start_time": "2020-09-10T03:05:18.546626",
          "status": "completed"
        },
        "tags": [],
        "id": "srzXB1-BN7ng",
        "colab_type": "code",
        "colab": {
          "base_uri": "https://localhost:8080/",
          "height": 35
        },
        "outputId": "e5e7e363-42b2-4b6d-8344-333addc0b0a2"
      },
      "source": [
        "decoded_pegasus_newsroom"
      ],
      "execution_count": 45,
      "outputs": [
        {
          "output_type": "execute_result",
          "data": {
            "application/vnd.google.colaboratory.intrinsic+json": {
              "type": "string"
            },
            "text/plain": [
              "'Congressional Republicans have a new fear when it comes to their health care lawsuit against the Obama administration: They might win.'"
            ]
          },
          "metadata": {
            "tags": []
          },
          "execution_count": 45
        }
      ]
    },
    {
      "cell_type": "code",
      "metadata": {
        "execution": {
          "iopub.execute_input": "2020-09-10T03:05:18.615776Z",
          "iopub.status.busy": "2020-09-10T03:05:18.615056Z",
          "iopub.status.idle": "2020-09-10T03:05:18.618297Z",
          "shell.execute_reply": "2020-09-10T03:05:18.618681Z"
        },
        "papermill": {
          "duration": 0.026573,
          "end_time": "2020-09-10T03:05:18.618782",
          "exception": false,
          "start_time": "2020-09-10T03:05:18.592209",
          "status": "completed"
        },
        "tags": [],
        "id": "3SSo53MNN7ni",
        "colab_type": "code",
        "colab": {
          "base_uri": "https://localhost:8080/",
          "height": 52
        },
        "outputId": "6ed290ec-ba3b-450e-c790-01c395740bbe"
      },
      "source": [
        "decoded_pegasus_cnn"
      ],
      "execution_count": 46,
      "outputs": [
        {
          "output_type": "execute_result",
          "data": {
            "application/vnd.google.colaboratory.intrinsic+json": {
              "type": "string"
            },
            "text/plain": [
              "'The incoming Trump administration could choose to no longer defend the executive branch against the suit.<n>A sudden loss of the disputed subsidies could conceivably cause the health care program to implode.<n>Republicans could find themselves in the awkward position of appropriating huge sums to temporarily prop up the Obama health care law.'"
            ]
          },
          "metadata": {
            "tags": []
          },
          "execution_count": 46
        }
      ]
    },
    {
      "cell_type": "code",
      "metadata": {
        "id": "K29zoPxXSglM",
        "colab_type": "code",
        "colab": {
          "base_uri": "https://localhost:8080/",
          "height": 103
        },
        "outputId": "bad85d51-b62f-4881-e5cc-38b4373c1348"
      },
      "source": [
        "decoded_pegasus_multi"
      ],
      "execution_count": 47,
      "outputs": [
        {
          "output_type": "execute_result",
          "data": {
            "application/vnd.google.colaboratory.intrinsic+json": {
              "type": "string"
            },
            "text/plain": [
              "\"– A lawsuit brought by House Republicans against the Obama administration over ObamaCare could cost the government up to $13 billion, the New York Times reports. The lawsuit, which has been put on hold since Donald Trump's election victory, claims the Obama administration is violating the Constitution by making subsidies available to people who don't have health insurance. House Republicans say Congress never appropriated the money for the subsidies, which are paid to insurance companies to help defray costs for low- and middle-income people. The Obama administration says the subsidies are a permanent part of the Affordable Care Act, even though Congress never appropriated the money for them. If the subsidies are cut off, millions of low- and middle-income people could lose their insurance. The House Republicans' lawsuit has been seeking to stop the subsidies, and they have asked the Obama administration to stop paying them until the case is resolved. The Justice Department has refused to do so, and a federal appeals court has put the lawsuit on hold until at least February, when it is expected to rule on the legality of the subsidies. If the subsidies are cut off, House Republicans could find themselves in the awkward position of having to appropriation huge sums to keep ObamaCare alive, angering conservative voters who have been demanding an end to the law for\""
            ]
          },
          "metadata": {
            "tags": []
          },
          "execution_count": 47
        }
      ]
    },
    {
      "cell_type": "code",
      "metadata": {
        "id": "OsE3JXo_WeDi",
        "colab_type": "code",
        "colab": {
          "base_uri": "https://localhost:8080/",
          "height": 69
        },
        "outputId": "632298aa-40da-4d97-b4f9-39180b61b866"
      },
      "source": [
        "decoded_pegasus_billsum"
      ],
      "execution_count": 48,
      "outputs": [
        {
          "output_type": "execute_result",
          "data": {
            "application/vnd.google.colaboratory.intrinsic+json": {
              "type": "string"
            },
            "text/plain": [
              "'Congressional Republicans have a new fear when it comes to their health care lawsuit against the Obama administration: the incoming Trump administration could choose to no longer defend the executive branch against the challenges to which the Department of the Treasury has been put in until at least late by the United States Court of Appeals for the District of Columbia Circuit; and the transition team for the President will evaluate this case and all related aspects of the Affordable Care Act.'"
            ]
          },
          "metadata": {
            "tags": []
          },
          "execution_count": 48
        }
      ]
    },
    {
      "cell_type": "markdown",
      "metadata": {
        "id": "5Y9T3YG7geYD",
        "colab_type": "text"
      },
      "source": [
        "### Charts"
      ]
    },
    {
      "cell_type": "code",
      "metadata": {
        "execution": {
          "iopub.execute_input": "2020-09-10T03:05:18.665886Z",
          "iopub.status.busy": "2020-09-10T03:05:18.665253Z",
          "iopub.status.idle": "2020-09-10T03:05:18.877481Z",
          "shell.execute_reply": "2020-09-10T03:05:18.877035Z"
        },
        "papermill": {
          "duration": 0.239171,
          "end_time": "2020-09-10T03:05:18.877579",
          "exception": false,
          "start_time": "2020-09-10T03:05:18.638408",
          "status": "completed"
        },
        "tags": [],
        "id": "7pZZxG8nN7nj",
        "colab_type": "code",
        "colab": {
          "base_uri": "https://localhost:8080/",
          "height": 401
        },
        "outputId": "9adc40cb-cdef-49bc-c6a7-4457bc91000b"
      },
      "source": [
        "import matplotlib.pyplot as plot\n",
        "time_array = {\n",
        "    'Model': [\"BERT\", \"T5\", \"DistilBERT\", \"GPT\", \"GPT2\", \"T5 wikihow\", \"Pegasus News Room\", \"Pegasus CNN DailyMail\", \"Pegasus Billsum\"], \n",
        "    'Times': [BERT_time, t5_time, DistilBERT_time, GPT_time, GPT2_time, t5_wikihow_time, pegasus_newsroom_time, pegasus_cnn_time, pegasus_billsum_time]\n",
        "    }\n",
        "df_time = pd.DataFrame(data=time_array)\n",
        "df_time.sort_values('Times').plot.bar(x=\"Model\", y=\"Times\", title=\"Time to Summarize for each model\")\n",
        "plot.show()"
      ],
      "execution_count": 49,
      "outputs": [
        {
          "output_type": "display_data",
          "data": {
            "image/png": "[encoded data removed]",
            "text/plain": [
              "<Figure size 432x288 with 1 Axes>"
            ]
          },
          "metadata": {
            "tags": [],
            "needs_background": "light"
          }
        }
      ]
    },
    {
      "cell_type": "code",
      "metadata": {
        "execution": {
          "iopub.execute_input": "2020-09-10T03:05:18.937975Z",
          "iopub.status.busy": "2020-09-10T03:05:18.936886Z",
          "iopub.status.idle": "2020-09-10T03:05:19.061035Z",
          "shell.execute_reply": "2020-09-10T03:05:19.061460Z"
        },
        "papermill": {
          "duration": 0.163324,
          "end_time": "2020-09-10T03:05:19.061577",
          "exception": false,
          "start_time": "2020-09-10T03:05:18.898253",
          "status": "completed"
        },
        "tags": [],
        "id": "Ue7Iy0TLN7nl",
        "colab_type": "code",
        "colab": {
          "base_uri": "https://localhost:8080/",
          "height": 401
        },
        "outputId": "618efe3b-8ef2-4064-aaf3-206ecb1f0652"
      },
      "source": [
        "length_dict = {\n",
        "    \"Model\": [\"Normal\", \"BERT\", \"T5\", \"DistilBERT\", \"GPT\", \"GPT2\", \"T5 Wikihow\", \"Pegasus News Room\", \"Pegasus CNN DailyMail\", \"Pegasus Multi News\", \"Pegasus Billsum\"], \n",
        "    \"Length\": [\n",
        "               (len(df.iloc[0]['content'])),\n",
        "               (len(decoded_BERT)), (len(decoded_T5)),\n",
        "               (len(decoded_DistilBERT)),\n",
        "               (len(decoded_GPT)),\n",
        "               (len(decoded_GPT2)),\n",
        "               (len(decoded_T5_wikihow)),\n",
        "               (len(decoded_pegasus_newsroom)),\n",
        "               (len(decoded_pegasus_cnn)),\n",
        "               (len(decoded_pegasus_multi)),\n",
        "               (len(decoded_pegasus_billsum)),\n",
        "               ]\n",
        "  }\n",
        "df_length = pd.DataFrame(data=length_dict)\n",
        "df_length.sort_values('Length').plot.bar(x=\"Model\", y=\"Length\", title=\"Length of Model Summary\")\n",
        "plot.show()"
      ],
      "execution_count": 50,
      "outputs": [
        {
          "output_type": "display_data",
          "data": {
            "image/png": "[encoded data removed]",
            "text/plain": [
              "<Figure size 432x288 with 1 Axes>"
            ]
          },
          "metadata": {
            "tags": [],
            "needs_background": "light"
          }
        }
      ]
    },
    {
      "cell_type": "markdown",
      "metadata": {
        "id": "EhaOGFhHgnJ9",
        "colab_type": "text"
      },
      "source": [
        "### ROGUE Metrics"
      ]
    },
    {
      "cell_type": "code",
      "metadata": {
        "id": "av6Jrq7Hgt8x",
        "colab_type": "code",
        "colab": {}
      },
      "source": [
        ""
      ],
      "execution_count": null,
      "outputs": []
    }
  ]
}